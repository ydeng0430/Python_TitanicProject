{
  "nbformat": 4,
  "nbformat_minor": 0,
  "metadata": {
    "colab": {
      "name": "kaggle_titanic_DataScienceWorkflow_1019.ipynb",
      "provenance": [],
      "collapsed_sections": [
        "5UBroF37fMjA",
        "w88_sFFFAfwI",
        "5aLOT5M6DtH_",
        "olaHbWccHav5",
        "kf2mWLEQPW7g",
        "-8xaHqe0PMUE",
        "_htYSR5Ml1ll",
        "KF_l2SomHmB8",
        "IVvd16LjJrDX",
        "RVsmIXc2KJWB",
        "TtM6oJnOUTKW",
        "QKmilK6mXFVB",
        "02a-st_iFO24",
        "gLKApp94M1gU"
      ]
    },
    "kernelspec": {
      "name": "python3",
      "display_name": "Python 3"
    },
    "language_info": {
      "name": "python"
    }
  },
  "cells": [
    {
      "cell_type": "markdown",
      "metadata": {
        "id": "fWn0FceWgyde"
      },
      "source": [
        "# Titanic - Machine Learning from Disater (Kaggle Competition)"
      ]
    },
    {
      "cell_type": "markdown",
      "metadata": {
        "id": "R5ngjS52Ypbd"
      },
      "source": [
        "## QUESTION AND PROBLEM DEFINITION"
      ]
    },
    {
      "cell_type": "markdown",
      "metadata": {
        "id": "kjQaJJVTYzUk"
      },
      "source": [
        "**Question -  What sorts of people were more likely to survive?**\n",
        "\n",
        "The question or problem definition for Titanic Survival competition is followed:\n",
        "\n",
        "*   Knowing from a training dataset that passengers who survived or did not survive in the Titanic disaster;\n",
        "*   Fitting a model determine based on a given testing dataset not containing the survival information, if these passengers in the testing dataset survived or not.\n",
        "\n",
        "Some early understanding about the problem is developed by the description on the Kaggle competition Description page. Here are the highlights to note.\n",
        "\n",
        "*   On April 15, 1912, during her maiden voyage, the Titanic sank after colliding with an iceberg, killing 1502 out of 2224 passengers and crew (32% survival rate);\n",
        "*   One of the reasons that the shipwreck led to such loss of life was that there were not enough lifeboats for the passengers and crew;\n",
        "*   Although there was some element of luck involved in surviving the sinking, some groups of people were more likely to survive than others, such as women, children, and the upper-class.\n",
        "\n"
      ]
    },
    {
      "cell_type": "markdown",
      "metadata": {
        "id": "OrNk1tA12-bP"
      },
      "source": [
        "## LOAD PACKAGES"
      ]
    },
    {
      "cell_type": "markdown",
      "metadata": {
        "id": "1P6vJKK_3Ctz"
      },
      "source": [
        "The following Python Pandas packages help us work with datasets in this project."
      ]
    },
    {
      "cell_type": "code",
      "metadata": {
        "id": "_4twKFL3guLr"
      },
      "source": [
        "# data analysis and wrangling\n",
        "import pandas as pd\n",
        "import numpy as np\n",
        "import random as rnd\n",
        "\n",
        "# visualization\n",
        "import seaborn as sns\n",
        "import matplotlib.pyplot as plt\n",
        "%matplotlib inline\n",
        "\n",
        "# machine learning\n",
        "from sklearn.linear_model import LogisticRegression\n",
        "from sklearn.feature_selection import f_regression\n",
        "from sklearn.svm import SVC, LinearSVC\n",
        "from sklearn.ensemble import RandomForestClassifier\n",
        "from sklearn.neighbors import KNeighborsClassifier\n",
        "from sklearn.naive_bayes import GaussianNB\n",
        "from sklearn.linear_model import Perceptron\n",
        "from sklearn.tree import DecisionTreeClassifier\n",
        "\n",
        "# Filter all warnings. \n",
        "import warnings\n",
        "warnings.filterwarnings('ignore')"
      ],
      "execution_count": 170,
      "outputs": []
    },
    {
      "cell_type": "markdown",
      "metadata": {
        "id": "8oT7h-YJeg00"
      },
      "source": [
        "## ACQUIRE DATA"
      ]
    },
    {
      "cell_type": "markdown",
      "metadata": {
        "id": "H7rU9v0DendK"
      },
      "source": [
        "We start by acquiring the training and testing datasets into Pandas dataframes."
      ]
    },
    {
      "cell_type": "code",
      "metadata": {
        "colab": {
          "resources": {
            "http://localhost:8080/nbextensions/google.colab/files.js": {
              "data": "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",
              "ok": true,
              "headers": [
                [
                  "content-type",
                  "application/javascript"
                ]
              ],
              "status": 200,
              "status_text": ""
            }
          },
          "base_uri": "https://localhost:8080/",
          "height": 108
        },
        "id": "sDaBx87-g45m",
        "outputId": "25d9985c-38c8-452e-b874-80aa97cf641e"
      },
      "source": [
        "# Open the local files\n",
        "from google.colab import files\n",
        "uploaded = files.upload()"
      ],
      "execution_count": 171,
      "outputs": [
        {
          "output_type": "display_data",
          "data": {
            "text/html": [
              "\n",
              "     <input type=\"file\" id=\"files-6d894895-5fdc-4107-900a-eb4e54e00e26\" name=\"files[]\" multiple disabled\n",
              "        style=\"border:none\" />\n",
              "     <output id=\"result-6d894895-5fdc-4107-900a-eb4e54e00e26\">\n",
              "      Upload widget is only available when the cell has been executed in the\n",
              "      current browser session. Please rerun this cell to enable.\n",
              "      </output>\n",
              "      <script src=\"/nbextensions/google.colab/files.js\"></script> "
            ],
            "text/plain": [
              "<IPython.core.display.HTML object>"
            ]
          },
          "metadata": {}
        },
        {
          "output_type": "stream",
          "name": "stdout",
          "text": [
            "Saving test.csv to test (1).csv\n",
            "Saving train.csv to train (1).csv\n"
          ]
        }
      ]
    },
    {
      "cell_type": "code",
      "metadata": {
        "id": "91PDlXwyhj15"
      },
      "source": [
        "# Load local files as pandas dataframe\n",
        "train = pd.read_csv(r'train.csv')\n",
        "test = pd.read_csv(r'test.csv')\n",
        "combine = [train,test]"
      ],
      "execution_count": 172,
      "outputs": []
    },
    {
      "cell_type": "markdown",
      "metadata": {
        "id": "5UBroF37fMjA"
      },
      "source": [
        "## ANALYZE BY DESCRIBING DATA"
      ]
    },
    {
      "cell_type": "markdown",
      "metadata": {
        "id": "yDanjxtVfVSj"
      },
      "source": [
        "Pandas also helps describe the datasets answering following questions early in the project.\n"
      ]
    },
    {
      "cell_type": "markdown",
      "metadata": {
        "id": "N2NQk_Q18Bjz"
      },
      "source": [
        "\n",
        "**Which features are available in the dataset?**\n",
        "\n",
        "Noting the feature names for directly manipulating or analyzing these. These feature names are as followed:"
      ]
    },
    {
      "cell_type": "code",
      "metadata": {
        "colab": {
          "base_uri": "https://localhost:8080/"
        },
        "id": "0AJS3z8IfynA",
        "outputId": "d60c26a8-ba9d-408e-e90a-fdcb95cb9bf0"
      },
      "source": [
        "print(train.columns.values)"
      ],
      "execution_count": 173,
      "outputs": [
        {
          "output_type": "stream",
          "name": "stdout",
          "text": [
            "['PassengerId' 'Survived' 'Pclass' 'Name' 'Sex' 'Age' 'SibSp' 'Parch'\n",
            " 'Ticket' 'Fare' 'Cabin' 'Embarked']\n"
          ]
        }
      ]
    },
    {
      "cell_type": "markdown",
      "metadata": {
        "id": "71m2ZejFjvgh"
      },
      "source": [
        "Let's preview the data."
      ]
    },
    {
      "cell_type": "code",
      "metadata": {
        "colab": {
          "base_uri": "https://localhost:8080/",
          "height": 205
        },
        "id": "RpIe2ddPjymk",
        "outputId": "dee665da-7e5d-4ab2-e810-a33c13835009"
      },
      "source": [
        "train.head()"
      ],
      "execution_count": 174,
      "outputs": [
        {
          "output_type": "execute_result",
          "data": {
            "text/html": [
              "<div>\n",
              "<style scoped>\n",
              "    .dataframe tbody tr th:only-of-type {\n",
              "        vertical-align: middle;\n",
              "    }\n",
              "\n",
              "    .dataframe tbody tr th {\n",
              "        vertical-align: top;\n",
              "    }\n",
              "\n",
              "    .dataframe thead th {\n",
              "        text-align: right;\n",
              "    }\n",
              "</style>\n",
              "<table border=\"1\" class=\"dataframe\">\n",
              "  <thead>\n",
              "    <tr style=\"text-align: right;\">\n",
              "      <th></th>\n",
              "      <th>PassengerId</th>\n",
              "      <th>Survived</th>\n",
              "      <th>Pclass</th>\n",
              "      <th>Name</th>\n",
              "      <th>Sex</th>\n",
              "      <th>Age</th>\n",
              "      <th>SibSp</th>\n",
              "      <th>Parch</th>\n",
              "      <th>Ticket</th>\n",
              "      <th>Fare</th>\n",
              "      <th>Cabin</th>\n",
              "      <th>Embarked</th>\n",
              "    </tr>\n",
              "  </thead>\n",
              "  <tbody>\n",
              "    <tr>\n",
              "      <th>0</th>\n",
              "      <td>1</td>\n",
              "      <td>0</td>\n",
              "      <td>3</td>\n",
              "      <td>Braund, Mr. Owen Harris</td>\n",
              "      <td>male</td>\n",
              "      <td>22.0</td>\n",
              "      <td>1</td>\n",
              "      <td>0</td>\n",
              "      <td>A/5 21171</td>\n",
              "      <td>7.2500</td>\n",
              "      <td>NaN</td>\n",
              "      <td>S</td>\n",
              "    </tr>\n",
              "    <tr>\n",
              "      <th>1</th>\n",
              "      <td>2</td>\n",
              "      <td>1</td>\n",
              "      <td>1</td>\n",
              "      <td>Cumings, Mrs. John Bradley (Florence Briggs Th...</td>\n",
              "      <td>female</td>\n",
              "      <td>38.0</td>\n",
              "      <td>1</td>\n",
              "      <td>0</td>\n",
              "      <td>PC 17599</td>\n",
              "      <td>71.2833</td>\n",
              "      <td>C85</td>\n",
              "      <td>C</td>\n",
              "    </tr>\n",
              "    <tr>\n",
              "      <th>2</th>\n",
              "      <td>3</td>\n",
              "      <td>1</td>\n",
              "      <td>3</td>\n",
              "      <td>Heikkinen, Miss. Laina</td>\n",
              "      <td>female</td>\n",
              "      <td>26.0</td>\n",
              "      <td>0</td>\n",
              "      <td>0</td>\n",
              "      <td>STON/O2. 3101282</td>\n",
              "      <td>7.9250</td>\n",
              "      <td>NaN</td>\n",
              "      <td>S</td>\n",
              "    </tr>\n",
              "    <tr>\n",
              "      <th>3</th>\n",
              "      <td>4</td>\n",
              "      <td>1</td>\n",
              "      <td>1</td>\n",
              "      <td>Futrelle, Mrs. Jacques Heath (Lily May Peel)</td>\n",
              "      <td>female</td>\n",
              "      <td>35.0</td>\n",
              "      <td>1</td>\n",
              "      <td>0</td>\n",
              "      <td>113803</td>\n",
              "      <td>53.1000</td>\n",
              "      <td>C123</td>\n",
              "      <td>S</td>\n",
              "    </tr>\n",
              "    <tr>\n",
              "      <th>4</th>\n",
              "      <td>5</td>\n",
              "      <td>0</td>\n",
              "      <td>3</td>\n",
              "      <td>Allen, Mr. William Henry</td>\n",
              "      <td>male</td>\n",
              "      <td>35.0</td>\n",
              "      <td>0</td>\n",
              "      <td>0</td>\n",
              "      <td>373450</td>\n",
              "      <td>8.0500</td>\n",
              "      <td>NaN</td>\n",
              "      <td>S</td>\n",
              "    </tr>\n",
              "  </tbody>\n",
              "</table>\n",
              "</div>"
            ],
            "text/plain": [
              "   PassengerId  Survived  Pclass  ...     Fare Cabin  Embarked\n",
              "0            1         0       3  ...   7.2500   NaN         S\n",
              "1            2         1       1  ...  71.2833   C85         C\n",
              "2            3         1       3  ...   7.9250   NaN         S\n",
              "3            4         1       1  ...  53.1000  C123         S\n",
              "4            5         0       3  ...   8.0500   NaN         S\n",
              "\n",
              "[5 rows x 12 columns]"
            ]
          },
          "metadata": {},
          "execution_count": 174
        }
      ]
    },
    {
      "cell_type": "markdown",
      "metadata": {
        "id": "ybwhPEjDpV7o"
      },
      "source": [
        "**What are the data types for various features?**\n",
        "\n",
        "Helping us during converting goal.\n",
        "\n",
        "*   Integer or float: seven features in training dataset, six features in testing dataset;\n",
        "*   String(object): five features in both training and testing datasets."
      ]
    },
    {
      "cell_type": "code",
      "metadata": {
        "colab": {
          "base_uri": "https://localhost:8080/"
        },
        "id": "y3Zpz040p4e1",
        "outputId": "1cf7c0db-e1d9-46f4-c3b1-5751a2951dbd"
      },
      "source": [
        "train.info()\n",
        "print('-'*40) # Draw the seperate line\n",
        "test.info()"
      ],
      "execution_count": 175,
      "outputs": [
        {
          "output_type": "stream",
          "name": "stdout",
          "text": [
            "<class 'pandas.core.frame.DataFrame'>\n",
            "RangeIndex: 891 entries, 0 to 890\n",
            "Data columns (total 12 columns):\n",
            " #   Column       Non-Null Count  Dtype  \n",
            "---  ------       --------------  -----  \n",
            " 0   PassengerId  891 non-null    int64  \n",
            " 1   Survived     891 non-null    int64  \n",
            " 2   Pclass       891 non-null    int64  \n",
            " 3   Name         891 non-null    object \n",
            " 4   Sex          891 non-null    object \n",
            " 5   Age          714 non-null    float64\n",
            " 6   SibSp        891 non-null    int64  \n",
            " 7   Parch        891 non-null    int64  \n",
            " 8   Ticket       891 non-null    object \n",
            " 9   Fare         891 non-null    float64\n",
            " 10  Cabin        204 non-null    object \n",
            " 11  Embarked     889 non-null    object \n",
            "dtypes: float64(2), int64(5), object(5)\n",
            "memory usage: 83.7+ KB\n",
            "----------------------------------------\n",
            "<class 'pandas.core.frame.DataFrame'>\n",
            "RangeIndex: 418 entries, 0 to 417\n",
            "Data columns (total 11 columns):\n",
            " #   Column       Non-Null Count  Dtype  \n",
            "---  ------       --------------  -----  \n",
            " 0   PassengerId  418 non-null    int64  \n",
            " 1   Pclass       418 non-null    int64  \n",
            " 2   Name         418 non-null    object \n",
            " 3   Sex          418 non-null    object \n",
            " 4   Age          332 non-null    float64\n",
            " 5   SibSp        418 non-null    int64  \n",
            " 6   Parch        418 non-null    int64  \n",
            " 7   Ticket       418 non-null    object \n",
            " 8   Fare         417 non-null    float64\n",
            " 9   Cabin        91 non-null     object \n",
            " 10  Embarked     418 non-null    object \n",
            "dtypes: float64(2), int64(4), object(5)\n",
            "memory usage: 36.0+ KB\n"
          ]
        }
      ]
    },
    {
      "cell_type": "markdown",
      "metadata": {
        "id": "Tw6nckergLOe"
      },
      "source": [
        "**Which features are categorical?**\n",
        "\n",
        "These values classify the samples into sets of similar samples. Within categorical features are the values nomial, ordinal, ratio, or interval based? Among other things this helps us select the appropriate plot for visualization.\n",
        "\n",
        "*  Categorical: Survived, Sex, and Embarked;\n",
        "*  Ordinal: Pclass."
      ]
    },
    {
      "cell_type": "markdown",
      "metadata": {
        "id": "rir9akGZicKs"
      },
      "source": [
        "**Which features are numerical?**\n",
        "\n",
        "Within numerical features are the values discrete, continuous, or timeseries based. Among other things this helps us select the appropraite plots for visualization.\n",
        "\n",
        "*   Continuous: Age, Fare;\n",
        "*   Discrete: SibSp, Parch."
      ]
    },
    {
      "cell_type": "markdown",
      "metadata": {
        "id": "Yw-RtrJDj5ml"
      },
      "source": [
        "**Which features are mixed data types?**\n",
        "\n",
        "Some features are alphanumeric data which are the mix of letters and numbers. Moreover, the mix of numeric and alphanumeric data exist within same feature. These are candidates for correcting goal.\n",
        "\n",
        "*  Mix of numeric and alphanumeric: Ticket;\n",
        "*  Alphanumeric: Cabin."
      ]
    },
    {
      "cell_type": "markdown",
      "metadata": {
        "id": "L1Bvqk9RtTu4"
      },
      "source": [
        "**What is the distribution of numerical features?**\n",
        "\n",
        "This helps us determine, among other early insights, how representative is the training dataset of the actual problem domain.\n",
        "\n",
        "\n",
        "*  Survived is a categorical feature with 0 or 1 values;\n",
        "*  About 38% in the training dataset survived representative of the actual survival rate at 32%;\n",
        "\n",
        "\n"
      ]
    },
    {
      "cell_type": "code",
      "metadata": {
        "colab": {
          "base_uri": "https://localhost:8080/",
          "height": 299
        },
        "id": "ZmALptNMuqWK",
        "outputId": "199b6342-ffd8-4ec6-abe0-98f4272af691"
      },
      "source": [
        "train.describe()"
      ],
      "execution_count": 176,
      "outputs": [
        {
          "output_type": "execute_result",
          "data": {
            "text/html": [
              "<div>\n",
              "<style scoped>\n",
              "    .dataframe tbody tr th:only-of-type {\n",
              "        vertical-align: middle;\n",
              "    }\n",
              "\n",
              "    .dataframe tbody tr th {\n",
              "        vertical-align: top;\n",
              "    }\n",
              "\n",
              "    .dataframe thead th {\n",
              "        text-align: right;\n",
              "    }\n",
              "</style>\n",
              "<table border=\"1\" class=\"dataframe\">\n",
              "  <thead>\n",
              "    <tr style=\"text-align: right;\">\n",
              "      <th></th>\n",
              "      <th>PassengerId</th>\n",
              "      <th>Survived</th>\n",
              "      <th>Pclass</th>\n",
              "      <th>Age</th>\n",
              "      <th>SibSp</th>\n",
              "      <th>Parch</th>\n",
              "      <th>Fare</th>\n",
              "    </tr>\n",
              "  </thead>\n",
              "  <tbody>\n",
              "    <tr>\n",
              "      <th>count</th>\n",
              "      <td>891.000000</td>\n",
              "      <td>891.000000</td>\n",
              "      <td>891.000000</td>\n",
              "      <td>714.000000</td>\n",
              "      <td>891.000000</td>\n",
              "      <td>891.000000</td>\n",
              "      <td>891.000000</td>\n",
              "    </tr>\n",
              "    <tr>\n",
              "      <th>mean</th>\n",
              "      <td>446.000000</td>\n",
              "      <td>0.383838</td>\n",
              "      <td>2.308642</td>\n",
              "      <td>29.699118</td>\n",
              "      <td>0.523008</td>\n",
              "      <td>0.381594</td>\n",
              "      <td>32.204208</td>\n",
              "    </tr>\n",
              "    <tr>\n",
              "      <th>std</th>\n",
              "      <td>257.353842</td>\n",
              "      <td>0.486592</td>\n",
              "      <td>0.836071</td>\n",
              "      <td>14.526497</td>\n",
              "      <td>1.102743</td>\n",
              "      <td>0.806057</td>\n",
              "      <td>49.693429</td>\n",
              "    </tr>\n",
              "    <tr>\n",
              "      <th>min</th>\n",
              "      <td>1.000000</td>\n",
              "      <td>0.000000</td>\n",
              "      <td>1.000000</td>\n",
              "      <td>0.420000</td>\n",
              "      <td>0.000000</td>\n",
              "      <td>0.000000</td>\n",
              "      <td>0.000000</td>\n",
              "    </tr>\n",
              "    <tr>\n",
              "      <th>25%</th>\n",
              "      <td>223.500000</td>\n",
              "      <td>0.000000</td>\n",
              "      <td>2.000000</td>\n",
              "      <td>20.125000</td>\n",
              "      <td>0.000000</td>\n",
              "      <td>0.000000</td>\n",
              "      <td>7.910400</td>\n",
              "    </tr>\n",
              "    <tr>\n",
              "      <th>50%</th>\n",
              "      <td>446.000000</td>\n",
              "      <td>0.000000</td>\n",
              "      <td>3.000000</td>\n",
              "      <td>28.000000</td>\n",
              "      <td>0.000000</td>\n",
              "      <td>0.000000</td>\n",
              "      <td>14.454200</td>\n",
              "    </tr>\n",
              "    <tr>\n",
              "      <th>75%</th>\n",
              "      <td>668.500000</td>\n",
              "      <td>1.000000</td>\n",
              "      <td>3.000000</td>\n",
              "      <td>38.000000</td>\n",
              "      <td>1.000000</td>\n",
              "      <td>0.000000</td>\n",
              "      <td>31.000000</td>\n",
              "    </tr>\n",
              "    <tr>\n",
              "      <th>max</th>\n",
              "      <td>891.000000</td>\n",
              "      <td>1.000000</td>\n",
              "      <td>3.000000</td>\n",
              "      <td>80.000000</td>\n",
              "      <td>8.000000</td>\n",
              "      <td>6.000000</td>\n",
              "      <td>512.329200</td>\n",
              "    </tr>\n",
              "  </tbody>\n",
              "</table>\n",
              "</div>"
            ],
            "text/plain": [
              "       PassengerId    Survived      Pclass  ...       SibSp       Parch        Fare\n",
              "count   891.000000  891.000000  891.000000  ...  891.000000  891.000000  891.000000\n",
              "mean    446.000000    0.383838    2.308642  ...    0.523008    0.381594   32.204208\n",
              "std     257.353842    0.486592    0.836071  ...    1.102743    0.806057   49.693429\n",
              "min       1.000000    0.000000    1.000000  ...    0.000000    0.000000    0.000000\n",
              "25%     223.500000    0.000000    2.000000  ...    0.000000    0.000000    7.910400\n",
              "50%     446.000000    0.000000    3.000000  ...    0.000000    0.000000   14.454200\n",
              "75%     668.500000    1.000000    3.000000  ...    1.000000    0.000000   31.000000\n",
              "max     891.000000    1.000000    3.000000  ...    8.000000    6.000000  512.329200\n",
              "\n",
              "[8 rows x 7 columns]"
            ]
          },
          "metadata": {},
          "execution_count": 176
        }
      ]
    },
    {
      "cell_type": "markdown",
      "metadata": {
        "id": "qWqICh5v1upe"
      },
      "source": [
        "*  Few elderly passengers (<1%) within age range 65-80;"
      ]
    },
    {
      "cell_type": "code",
      "metadata": {
        "colab": {
          "base_uri": "https://localhost:8080/"
        },
        "id": "A6LeGJzqyU9T",
        "outputId": "d7a4522e-1646-481e-e5fa-32c1418f617d"
      },
      "source": [
        "train['Age'].describe(percentiles=[.9, .99])"
      ],
      "execution_count": 177,
      "outputs": [
        {
          "output_type": "execute_result",
          "data": {
            "text/plain": [
              "count    714.000000\n",
              "mean      29.699118\n",
              "std       14.526497\n",
              "min        0.420000\n",
              "50%       28.000000\n",
              "90%       50.000000\n",
              "99%       65.870000\n",
              "max       80.000000\n",
              "Name: Age, dtype: float64"
            ]
          },
          "metadata": {},
          "execution_count": 177
        }
      ]
    },
    {
      "cell_type": "markdown",
      "metadata": {
        "id": "S_k5O-Vg11PP"
      },
      "source": [
        "*  Nearly 30% of the passengers had siblings and/or spouses aboard;"
      ]
    },
    {
      "cell_type": "code",
      "metadata": {
        "colab": {
          "base_uri": "https://localhost:8080/"
        },
        "id": "Vqk9K8fU18uN",
        "outputId": "9a80cbff-70fd-4f34-a337-de2af0badf22"
      },
      "source": [
        "train['SibSp'].describe(percentiles=[.68,.69])"
      ],
      "execution_count": 178,
      "outputs": [
        {
          "output_type": "execute_result",
          "data": {
            "text/plain": [
              "count    891.000000\n",
              "mean       0.523008\n",
              "std        1.102743\n",
              "min        0.000000\n",
              "50%        0.000000\n",
              "68%        0.000000\n",
              "69%        1.000000\n",
              "max        8.000000\n",
              "Name: SibSp, dtype: float64"
            ]
          },
          "metadata": {},
          "execution_count": 178
        }
      ]
    },
    {
      "cell_type": "markdown",
      "metadata": {
        "id": "iKABlZOI1-8V"
      },
      "source": [
        "*  Most passengers (>75%) did not travel with parents or children;\n"
      ]
    },
    {
      "cell_type": "code",
      "metadata": {
        "colab": {
          "base_uri": "https://localhost:8080/"
        },
        "id": "YVfBM9Dx2DBr",
        "outputId": "634e60ac-6e37-4886-928e-8ec3ca711e80"
      },
      "source": [
        "train['Parch'].describe(percentiles=[.75,.8])"
      ],
      "execution_count": 179,
      "outputs": [
        {
          "output_type": "execute_result",
          "data": {
            "text/plain": [
              "count    891.000000\n",
              "mean       0.381594\n",
              "std        0.806057\n",
              "min        0.000000\n",
              "50%        0.000000\n",
              "75%        0.000000\n",
              "80%        1.000000\n",
              "max        6.000000\n",
              "Name: Parch, dtype: float64"
            ]
          },
          "metadata": {},
          "execution_count": 179
        }
      ]
    },
    {
      "cell_type": "markdown",
      "metadata": {
        "id": "O0a1n1w92JdK"
      },
      "source": [
        "*  Fare varied significantly with few passengers paying as high as $512."
      ]
    },
    {
      "cell_type": "code",
      "metadata": {
        "colab": {
          "base_uri": "https://localhost:8080/"
        },
        "id": "-6uRcf2r2NLf",
        "outputId": "9732cfe4-7904-4b69-a256-27af0f68f58a"
      },
      "source": [
        "train['Fare'].describe(percentiles=[ .9, .99])"
      ],
      "execution_count": 180,
      "outputs": [
        {
          "output_type": "execute_result",
          "data": {
            "text/plain": [
              "count    891.000000\n",
              "mean      32.204208\n",
              "std       49.693429\n",
              "min        0.000000\n",
              "50%       14.454200\n",
              "90%       77.958300\n",
              "99%      249.006220\n",
              "max      512.329200\n",
              "Name: Fare, dtype: float64"
            ]
          },
          "metadata": {},
          "execution_count": 180
        }
      ]
    },
    {
      "cell_type": "markdown",
      "metadata": {
        "id": "wcbQZb9a0yDx"
      },
      "source": [
        "**What is the distribution of categorical features?**\n",
        "\n",
        "*  Names are unique across the dataset (count=unique=891);\n",
        "*  Sex are two possible values with 65% male (top=male, freq=557/count=891);\n",
        "*  Ticket has high ratio (22%) of duplicate values (unique=681);\n",
        "*  Cabin values have several duplicates across samples. Alternatively several passengers shared a cabin;\n",
        "*  Embarked takes three possible values. S port used by most passengers (top=S).\n"
      ]
    },
    {
      "cell_type": "code",
      "metadata": {
        "colab": {
          "base_uri": "https://localhost:8080/",
          "height": 175
        },
        "id": "SRGql7oN12fU",
        "outputId": "be2b0ecd-2abd-4c5e-df65-0bb95ff514a4"
      },
      "source": [
        "train.describe(include=['O'])"
      ],
      "execution_count": 181,
      "outputs": [
        {
          "output_type": "execute_result",
          "data": {
            "text/html": [
              "<div>\n",
              "<style scoped>\n",
              "    .dataframe tbody tr th:only-of-type {\n",
              "        vertical-align: middle;\n",
              "    }\n",
              "\n",
              "    .dataframe tbody tr th {\n",
              "        vertical-align: top;\n",
              "    }\n",
              "\n",
              "    .dataframe thead th {\n",
              "        text-align: right;\n",
              "    }\n",
              "</style>\n",
              "<table border=\"1\" class=\"dataframe\">\n",
              "  <thead>\n",
              "    <tr style=\"text-align: right;\">\n",
              "      <th></th>\n",
              "      <th>Name</th>\n",
              "      <th>Sex</th>\n",
              "      <th>Ticket</th>\n",
              "      <th>Cabin</th>\n",
              "      <th>Embarked</th>\n",
              "    </tr>\n",
              "  </thead>\n",
              "  <tbody>\n",
              "    <tr>\n",
              "      <th>count</th>\n",
              "      <td>891</td>\n",
              "      <td>891</td>\n",
              "      <td>891</td>\n",
              "      <td>204</td>\n",
              "      <td>889</td>\n",
              "    </tr>\n",
              "    <tr>\n",
              "      <th>unique</th>\n",
              "      <td>891</td>\n",
              "      <td>2</td>\n",
              "      <td>681</td>\n",
              "      <td>147</td>\n",
              "      <td>3</td>\n",
              "    </tr>\n",
              "    <tr>\n",
              "      <th>top</th>\n",
              "      <td>Turpin, Mrs. William John Robert (Dorothy Ann ...</td>\n",
              "      <td>male</td>\n",
              "      <td>347082</td>\n",
              "      <td>C23 C25 C27</td>\n",
              "      <td>S</td>\n",
              "    </tr>\n",
              "    <tr>\n",
              "      <th>freq</th>\n",
              "      <td>1</td>\n",
              "      <td>577</td>\n",
              "      <td>7</td>\n",
              "      <td>4</td>\n",
              "      <td>644</td>\n",
              "    </tr>\n",
              "  </tbody>\n",
              "</table>\n",
              "</div>"
            ],
            "text/plain": [
              "                                                     Name  ... Embarked\n",
              "count                                                 891  ...      889\n",
              "unique                                                891  ...        3\n",
              "top     Turpin, Mrs. William John Robert (Dorothy Ann ...  ...        S\n",
              "freq                                                    1  ...      644\n",
              "\n",
              "[4 rows x 5 columns]"
            ]
          },
          "metadata": {},
          "execution_count": 181
        }
      ]
    },
    {
      "cell_type": "markdown",
      "metadata": {
        "id": "om6u19iJlZgA"
      },
      "source": [
        "**Which features may contain errors or typos?**\n",
        "\n",
        "This is harder to review for a large dataset; however, reviewing a few samples from a smaller dataset may just tell us outright, which features may require correcting.\n",
        "\n",
        "*  Name. Name feature may contain errors or typos as there are several ways used to descirbe a name including titles and round brackets used for alternative or short names."
      ]
    },
    {
      "cell_type": "code",
      "metadata": {
        "colab": {
          "base_uri": "https://localhost:8080/"
        },
        "id": "1PB8heDc3q1b",
        "outputId": "c08d4339-2904-48d2-8f12-00e9cf0bdd12"
      },
      "source": [
        "train['Name'].head()"
      ],
      "execution_count": 182,
      "outputs": [
        {
          "output_type": "execute_result",
          "data": {
            "text/plain": [
              "0                              Braund, Mr. Owen Harris\n",
              "1    Cumings, Mrs. John Bradley (Florence Briggs Th...\n",
              "2                               Heikkinen, Miss. Laina\n",
              "3         Futrelle, Mrs. Jacques Heath (Lily May Peel)\n",
              "4                             Allen, Mr. William Henry\n",
              "Name: Name, dtype: object"
            ]
          },
          "metadata": {},
          "execution_count": 182
        }
      ]
    },
    {
      "cell_type": "markdown",
      "metadata": {
        "id": "pr-OVyENmSfC"
      },
      "source": [
        "**Which features contain blank, null or empty values?**\n",
        "\n",
        "These will require correcting.\n",
        "* Cabin > Age > Embarked features contain a number of null values in that order for the training dataset;"
      ]
    },
    {
      "cell_type": "code",
      "metadata": {
        "colab": {
          "base_uri": "https://localhost:8080/"
        },
        "id": "8EaIo4e3lY06",
        "outputId": "ecba9c7d-d823-48a0-8859-8ef834808c7b"
      },
      "source": [
        "# Check for nulls for the training dataset\n",
        "null_check_train = train.isnull().sum()\n",
        "null_check_train"
      ],
      "execution_count": 183,
      "outputs": [
        {
          "output_type": "execute_result",
          "data": {
            "text/plain": [
              "PassengerId      0\n",
              "Survived         0\n",
              "Pclass           0\n",
              "Name             0\n",
              "Sex              0\n",
              "Age            177\n",
              "SibSp            0\n",
              "Parch            0\n",
              "Ticket           0\n",
              "Fare             0\n",
              "Cabin          687\n",
              "Embarked         2\n",
              "dtype: int64"
            ]
          },
          "metadata": {},
          "execution_count": 183
        }
      ]
    },
    {
      "cell_type": "code",
      "metadata": {
        "colab": {
          "base_uri": "https://localhost:8080/",
          "height": 424
        },
        "id": "7k6J1T75mjGj",
        "outputId": "f7868353-6ecc-4b99-e557-61dd8472f240"
      },
      "source": [
        "# Show the nulls in Age, Cabin, and Embarked variables in percentage\n",
        "null_age_train_percent = round(null_check_train['Age']/(len(train['Age'])/100),2)\n",
        "null_cabin_train_percent = round(null_check_train['Cabin']/(len(train['Cabin'])/100),2)\n",
        "null_embarked_train_percent = round(null_check_train['Embarked']/(len(train['Embarked'])/100),2)\n",
        "# The bar plot of missing values in percentage for train dataset\n",
        "df_null_train = pd.DataFrame({'Feature':['Cabin','Age','Embarked'],\n",
        "                              'Percentage':[null_cabin_train_percent,\n",
        "                                            null_age_train_percent,\n",
        "                                            null_embarked_train_percent]})\n",
        "sns.catplot(x='Feature',y='Percentage',kind='bar', data=df_null_train,palette=\"Blues_d\")\n",
        "plt.show()\n",
        "\n",
        "print(null_cabin_train_percent,'% of data in Cabin feature are missing.')\n",
        "print(null_age_train_percent,'% of data in Age feature are missing.')\n",
        "print(null_embarked_train_percent,'% of data in Embarked feature are missing.')"
      ],
      "execution_count": 184,
      "outputs": [
        {
          "output_type": "display_data",
          "data": {
            "image/png": "[encoded data removed]",
            "text/plain": [
              "<Figure size 360x360 with 1 Axes>"
            ]
          },
          "metadata": {
            "needs_background": "light"
          }
        },
        {
          "output_type": "stream",
          "name": "stdout",
          "text": [
            "77.1 % of data in Cabin feature are missing.\n",
            "19.87 % of data in Age feature are missing.\n",
            "0.22 % of data in Embarked feature are missing.\n"
          ]
        }
      ]
    },
    {
      "cell_type": "markdown",
      "metadata": {
        "id": "LBsvdmYMovZr"
      },
      "source": [
        "*  Cabin > Age > Fare are incomplete in case of testing dataset."
      ]
    },
    {
      "cell_type": "code",
      "metadata": {
        "colab": {
          "base_uri": "https://localhost:8080/"
        },
        "id": "LBLgLOvGlf8c",
        "outputId": "8781c9a1-7d28-49d3-f058-77952bb516f8"
      },
      "source": [
        "# Check for nulls for the test dataset\n",
        "null_check_test = test.isnull().sum()\n",
        "null_check_test"
      ],
      "execution_count": 185,
      "outputs": [
        {
          "output_type": "execute_result",
          "data": {
            "text/plain": [
              "PassengerId      0\n",
              "Pclass           0\n",
              "Name             0\n",
              "Sex              0\n",
              "Age             86\n",
              "SibSp            0\n",
              "Parch            0\n",
              "Ticket           0\n",
              "Fare             1\n",
              "Cabin          327\n",
              "Embarked         0\n",
              "dtype: int64"
            ]
          },
          "metadata": {},
          "execution_count": 185
        }
      ]
    },
    {
      "cell_type": "code",
      "metadata": {
        "colab": {
          "base_uri": "https://localhost:8080/",
          "height": 424
        },
        "id": "KrKz5UcnonuS",
        "outputId": "43e0ea7c-18d6-4457-d6f9-8e5e94da77de"
      },
      "source": [
        "# Show the nulls in Age, Fare, and Cabin variables in percentage\n",
        "null_age_test_percent = round(null_check_test['Age']/(len(test['Age'])/100),2)\n",
        "null_fare_test_percent = round(null_check_test['Fare']/(len(test['Fare'])/100),2)\n",
        "null_cabin_test_percent = round(null_check_test['Cabin']/(len(test['Cabin'])/100),2)\n",
        "# The bar plot of missing values in percentage for test dataset\n",
        "df_null_test = pd.DataFrame({'Feature':['Cabin','Age','Fare'],\n",
        "                              'Percentage':[null_cabin_test_percent,\n",
        "                                            null_age_test_percent,\n",
        "                                            null_fare_test_percent]})\n",
        "sns.catplot(x='Feature',y='Percentage',kind='bar', data=df_null_test,palette=\"Blues_d\")\n",
        "plt.show()\n",
        "\n",
        "print(null_cabin_test_percent,'% of data in Cabin feature are missing.')\n",
        "print(null_age_test_percent,'% of data in Age feautre are missing.')\n",
        "print(null_fare_test_percent,'% of data in Embarked feature are missing.')"
      ],
      "execution_count": 186,
      "outputs": [
        {
          "output_type": "display_data",
          "data": {
            "image/png": "[encoded data removed]",
            "text/plain": [
              "<Figure size 360x360 with 1 Axes>"
            ]
          },
          "metadata": {
            "needs_background": "light"
          }
        },
        {
          "output_type": "stream",
          "name": "stdout",
          "text": [
            "78.23 % of data in Cabin feature are missing.\n",
            "20.57 % of data in Age feautre are missing.\n",
            "0.24 % of data in Embarked feature are missing.\n"
          ]
        }
      ]
    },
    {
      "cell_type": "markdown",
      "metadata": {
        "id": "w88_sFFFAfwI"
      },
      "source": [
        "## ASSUMPTIONS BASED ON DATA ANALYSIS"
      ]
    },
    {
      "cell_type": "markdown",
      "metadata": {
        "id": "bemA9y_XAlsK"
      },
      "source": [
        "We arrive at following assumptions based on data analysis done so far. We may validate these assumptions further before taking appropriate actions."
      ]
    },
    {
      "cell_type": "markdown",
      "metadata": {
        "id": "DiMBPskWA0m9"
      },
      "source": [
        "**Correlating**\n",
        "\n",
        "We want to know how well each feature correlates with Survived. We want to do this early in the project and match these quick correlations with modelled correlations later in the project."
      ]
    },
    {
      "cell_type": "markdown",
      "metadata": {
        "id": "WVYik1KNBf80"
      },
      "source": [
        "**Completing**\n",
        "\n",
        "1.   We may want to complete Age feature as it is definitely correlated to Survived;\n",
        "2.   We may want to complete Embarked feature as it may also correlate with Survived or other important feature.\n",
        "\n",
        "\n",
        "\n"
      ]
    },
    {
      "cell_type": "markdown",
      "metadata": {
        "id": "fbmml7cQB47C"
      },
      "source": [
        "**Correcting**\n",
        "\n",
        "1.  PassengerId may be dropped from training dataset as it doesn't contribute to Survived;\n",
        "2.  Cabin feature may be dropped as it is higly incomplete or contains many null values both in training and testing datasets;\n",
        "3.  Ticket feature may be dropped from the analysis as it contains high ratio of duplicates (22%) and there may not be a correlation between Ticket and Survived;\n",
        "4.  Name feature is relatively non-standard, may not contribute directly to Survived, so maybe droped."
      ]
    },
    {
      "cell_type": "markdown",
      "metadata": {
        "id": "OoGw0UnbCwgU"
      },
      "source": [
        "**Creating**\n",
        "\n",
        "1.  We may want to create a new feature called FamilySize based on Parch and SibSp to get total count of family members on board;\n",
        "2.  We may want to engineer the Name feature to extract Title as a new feature;\n",
        "3.  We may want to create new feature for Age bands. This turns a continuous numerical feature into an ordinal categorical feature;\n",
        "4.  We may also want to create a Fare range feature if it helps our analysis."
      ]
    },
    {
      "cell_type": "markdown",
      "metadata": {
        "id": "Ee4t5k_PDSqX"
      },
      "source": [
        "**Classifying**\n",
        "\n",
        "We may also add to our assumptions based on the problem description noted earlier.\n",
        "\n",
        "1.  Women (Sex=female) were more likely to have survived;\n",
        "2.  Children (Age<4) were more likely to have survived;\n",
        "3.  The upper-class passengers (Pclass=1) were more likely to have survived."
      ]
    },
    {
      "cell_type": "markdown",
      "metadata": {
        "id": "5aLOT5M6DtH_"
      },
      "source": [
        "## ANALYZE BY PIVOTING FEATURES"
      ]
    },
    {
      "cell_type": "markdown",
      "metadata": {
        "id": "9RKXlPfzDyeh"
      },
      "source": [
        "To confirm some of our observations and assumptions, we can quickly analyze our feature correlations by pivoting features against each other. We can only do so at this stage for features which do not have any empty values. It also make sense doing so only for features which  ordinal (Pclass), categorical (Sex) or discrete (SibSp, Parch) type.\n",
        "\n",
        "*  **Pclass.** We observe significant correlation (>0.5) among Pclass=1 and Survived (classifying #3). We decide to include this feature in our model.\n",
        " "
      ]
    },
    {
      "cell_type": "code",
      "metadata": {
        "colab": {
          "base_uri": "https://localhost:8080/",
          "height": 0
        },
        "id": "OAjoJJSTFzN3",
        "outputId": "ebfda7dd-5537-4f9a-ef1b-9c996e891b4a"
      },
      "source": [
        "pclass_sort = train[['Pclass','Survived']].groupby(['Pclass'],as_index=False).mean().sort_values(by='Survived',ascending=False)\n",
        "pclass_plot = sns.catplot(x='Pclass',y='Survived',kind='bar',data=pclass_sort, palette = \"Blues_d\")\n",
        "pclass_plot.set(title=\"The Average Survival Rate for Passengers in Different Classes\")\n",
        "plt.xticks(rotation=0)\n",
        "plt.show()"
      ],
      "execution_count": 187,
      "outputs": [
        {
          "output_type": "display_data",
          "data": {
            "image/png": "[encoded data removed]",
            "text/plain": [
              "<Figure size 360x360 with 1 Axes>"
            ]
          },
          "metadata": {
            "needs_background": "light"
          }
        }
      ]
    },
    {
      "cell_type": "markdown",
      "metadata": {
        "id": "hPdBVRXPFvEG"
      },
      "source": [
        "\n",
        "*  **Sex.** We confirm the observation during problem definition that Sex=female had very high survival rate at 74% (classifying #1).\n",
        "\n",
        "\n"
      ]
    },
    {
      "cell_type": "code",
      "metadata": {
        "colab": {
          "base_uri": "https://localhost:8080/",
          "height": 0
        },
        "id": "7SyqFUqcGmSi",
        "outputId": "323924b3-f811-412a-8a6d-7fdd0a19ea05"
      },
      "source": [
        "sex_sort = train[['Sex','Survived']].groupby(['Sex'],as_index=False).mean().sort_values(by='Survived',ascending=False)\n",
        "sex_plot = sns.catplot(x='Sex',y='Survived',kind='bar',data=sex_sort, palette = \"Blues_d\")\n",
        "sex_plot.set(title=\"The Average Survival Rate for Passengers in Different Sex\")\n",
        "plt.xticks(rotation=0)\n",
        "plt.show()"
      ],
      "execution_count": 188,
      "outputs": [
        {
          "output_type": "display_data",
          "data": {
            "image/png": "[encoded data removed]",
            "text/plain": [
              "<Figure size 360x360 with 1 Axes>"
            ]
          },
          "metadata": {
            "needs_background": "light"
          }
        }
      ]
    },
    {
      "cell_type": "markdown",
      "metadata": {
        "id": "TfNiF1FRGFU_"
      },
      "source": [
        "*  **SibSp and Parch.** These features have zero correlation for certain values. It may be best to derive a feature or a set of features from these individual features."
      ]
    },
    {
      "cell_type": "code",
      "metadata": {
        "colab": {
          "base_uri": "https://localhost:8080/",
          "height": 0
        },
        "id": "6_ZUqZ62G9lb",
        "outputId": "320eb9f3-5408-4cec-9f9f-fdf9e8d6620d"
      },
      "source": [
        "sibsp_sort = train[['SibSp','Survived']].groupby(['SibSp'],as_index=False).mean().sort_values(by='Survived',ascending=False)\n",
        "sibsp_plot = sns.catplot(x='SibSp',y='Survived',kind='bar',data=sibsp_sort, palette = \"Blues_d\")\n",
        "sibsp_plot.set(title=\"The Average Survival Rate for Passengers with Different Number of Siblings and/or Spouses\")\n",
        "plt.xticks(rotation=0)\n",
        "plt.show()"
      ],
      "execution_count": 189,
      "outputs": [
        {
          "output_type": "display_data",
          "data": {
            "image/png": "[encoded data removed]",
            "text/plain": [
              "<Figure size 360x360 with 1 Axes>"
            ]
          },
          "metadata": {
            "needs_background": "light"
          }
        }
      ]
    },
    {
      "cell_type": "code",
      "metadata": {
        "colab": {
          "base_uri": "https://localhost:8080/",
          "height": 0
        },
        "id": "_cdVxIYzIkhQ",
        "outputId": "71f2cedc-c337-4af4-ab92-a248940c024c"
      },
      "source": [
        "parch_sort = train[['Parch','Survived']].groupby(['Parch'],as_index=False).mean().sort_values(by='Survived',ascending=False)\n",
        "parch_plot = sns.catplot(x='Parch',y='Survived',kind='bar',data=parch_sort, palette = \"Blues_d\")\n",
        "parch_plot.set(title=\"The Average Survival Rate for Passengers with Different Number of Parents and/or Children\")\n",
        "plt.xticks(rotation=0)\n",
        "plt.show()"
      ],
      "execution_count": 190,
      "outputs": [
        {
          "output_type": "display_data",
          "data": {
            "image/png": "[encoded data removed]",
            "text/plain": [
              "<Figure size 360x360 with 1 Axes>"
            ]
          },
          "metadata": {
            "needs_background": "light"
          }
        }
      ]
    },
    {
      "cell_type": "markdown",
      "metadata": {
        "id": "olaHbWccHav5"
      },
      "source": [
        "## ANALYZE BY VISUALIZING DATA"
      ]
    },
    {
      "cell_type": "markdown",
      "metadata": {
        "id": "tgBC67r-HfRb"
      },
      "source": [
        "Now we can continue confirming some of our assumptions using visualization for analyzing the data."
      ]
    },
    {
      "cell_type": "markdown",
      "metadata": {
        "id": "kf2mWLEQPW7g"
      },
      "source": [
        "###Correlating numerical features"
      ]
    },
    {
      "cell_type": "markdown",
      "metadata": {
        "id": "8iky0YCWHlqW"
      },
      "source": [
        "Let's start by understnding correlations between numerical features and our solution goal (Survived).\n",
        "\n",
        "A histogram chart is useful for analyzing continuous numerical variables like Age where banding or ranges will help identify useful patterns. The historgram can indicate distribution of samples using automatically defined bins or equally ranged bands. This helps us answer question realting to specific bands (Did infants have better chance to survive?)\n",
        "\n",
        "Note that x-axis in histogram visualizations represents the count of samples or passengers."
      ]
    },
    {
      "cell_type": "markdown",
      "metadata": {
        "id": "WCj3gYV7IZ9r"
      },
      "source": [
        "**Observations**\n",
        "\n",
        "*  Infant (Age<=4) had high survival rate;\n",
        "*  Oldest passenger (Age=80) survived;\n",
        "*  Large number of 15-25 year olds did not survive;\n",
        "*  Most passengers were in 15-35 age range."
      ]
    },
    {
      "cell_type": "code",
      "metadata": {
        "colab": {
          "base_uri": "https://localhost:8080/",
          "height": 0
        },
        "id": "-OkJRmxIKR11",
        "outputId": "99a195f8-f668-44aa-ebac-8a9cd711caaf"
      },
      "source": [
        "hist_age = sns.FacetGrid(train,col='Survived')\n",
        "hist_age.map(plt.hist,'Age',bins=20)"
      ],
      "execution_count": 191,
      "outputs": [
        {
          "output_type": "execute_result",
          "data": {
            "text/plain": [
              "<seaborn.axisgrid.FacetGrid at 0x7fddb3df2690>"
            ]
          },
          "metadata": {},
          "execution_count": 191
        },
        {
          "output_type": "display_data",
          "data": {
            "image/png": "[encoded data removed]",
            "text/plain": [
              "<Figure size 432x216 with 2 Axes>"
            ]
          },
          "metadata": {
            "needs_background": "light"
          }
        }
      ]
    },
    {
      "cell_type": "markdown",
      "metadata": {
        "id": "aPsQw76KJvS1"
      },
      "source": [
        "**Decisions**\n",
        "\n",
        "This simple analysis confirms our assumptions as decisions for subsequent workflow stages.\n",
        "\n",
        "*  We should consider Age (our assumption classifying #2) in our model training;\n",
        "*  We should complete the Age features for null values (completing #1);\n",
        "*  We should band age groups (creating #3)."
      ]
    },
    {
      "cell_type": "markdown",
      "metadata": {
        "id": "-8xaHqe0PMUE"
      },
      "source": [
        "### Correlating numerical and ordinal features"
      ]
    },
    {
      "cell_type": "markdown",
      "metadata": {
        "id": "1L33eTG0MH2k"
      },
      "source": [
        "\n",
        "We can combine multiple features for identifying correlations using a single plot. This can be done with numerical and categorical features which have numeric values."
      ]
    },
    {
      "cell_type": "markdown",
      "metadata": {
        "id": "FM4yAN2EMazy"
      },
      "source": [
        "**Observations**\n",
        "\n",
        "*  Pclass=3 had most passengers; however, most did not survive, which confirms our classifying assumption #3;\n",
        "*  Infant passengers in Pclass=2 and Pclass=3 mostly survived, which qualifies our classifying assumption #2;\n",
        "*  Most passengers in Pclass=1 survived, which confirms our classifying assumption #3.\n"
      ]
    },
    {
      "cell_type": "code",
      "metadata": {
        "colab": {
          "base_uri": "https://localhost:8080/",
          "height": 0
        },
        "id": "9g51sYF4Nk68",
        "outputId": "e6b8508e-c5e8-471d-facd-e7d8728d955a"
      },
      "source": [
        "hist_pclass = sns.FacetGrid(train, col='Survived', row = 'Pclass', size=2.2, aspect = 1.6)\n",
        "hist_pclass.map(plt.hist, 'Age', alpha = .5, bins=20)\n",
        "hist_pclass.add_legend()"
      ],
      "execution_count": 192,
      "outputs": [
        {
          "output_type": "execute_result",
          "data": {
            "text/plain": [
              "<seaborn.axisgrid.FacetGrid at 0x7fddb327b790>"
            ]
          },
          "metadata": {},
          "execution_count": 192
        },
        {
          "output_type": "display_data",
          "data": {
            "image/png": "[encoded data removed]",
            "text/plain": [
              "<Figure size 514.88x475.2 with 6 Axes>"
            ]
          },
          "metadata": {
            "needs_background": "light"
          }
        }
      ]
    },
    {
      "cell_type": "markdown",
      "metadata": {
        "id": "j32vqlz4O40e"
      },
      "source": [
        "**Decisions**\n",
        "\n",
        "Consider Pclass for model training."
      ]
    },
    {
      "cell_type": "markdown",
      "metadata": {
        "id": "OcW07yQrPFoF"
      },
      "source": [
        "###Correlating categorical features"
      ]
    },
    {
      "cell_type": "markdown",
      "metadata": {
        "id": "JLOPp_0sPkkQ"
      },
      "source": [
        "Now we can correlate categorical features with our solution goal."
      ]
    },
    {
      "cell_type": "markdown",
      "metadata": {
        "id": "i9YvoC6dPsvr"
      },
      "source": [
        "**Observations**\n",
        "\n",
        "*  Female passengers had much better survival rate than males, which confirms classifying #1;\n",
        "*  Exception in Embarked=C where male had higher survival rate. This could be a correlation between Pclass and Embarked and Pclass and Survived, not necessarily direct correlation between Embarked and Survived."
      ]
    },
    {
      "cell_type": "code",
      "metadata": {
        "colab": {
          "base_uri": "https://localhost:8080/",
          "height": 0
        },
        "id": "vNjvox4SRXj3",
        "outputId": "62548457-07f7-4158-9c36-d64c34c2597f"
      },
      "source": [
        "point_embarked = sns.FacetGrid(train,row='Embarked',size=2.2, aspect=1.6)\n",
        "point_embarked.map(sns.pointplot,'Pclass','Survived','Sex',palette='Blues_d')\n",
        "point_embarked.add_legend()"
      ],
      "execution_count": 193,
      "outputs": [
        {
          "output_type": "execute_result",
          "data": {
            "text/plain": [
              "<seaborn.axisgrid.FacetGrid at 0x7fddb33d7750>"
            ]
          },
          "metadata": {},
          "execution_count": 193
        },
        {
          "output_type": "display_data",
          "data": {
            "image/png": "[encoded data removed]",
            "text/plain": [
              "<Figure size 323.94x475.2 with 3 Axes>"
            ]
          },
          "metadata": {
            "needs_background": "light"
          }
        }
      ]
    },
    {
      "cell_type": "markdown",
      "metadata": {
        "id": "Cu4oJ1gMSGwh"
      },
      "source": [
        "**Decision**\n",
        "\n",
        "*  Add Sex feature to model training;\n",
        "*  Complete and add Embarked feature to model training."
      ]
    },
    {
      "cell_type": "markdown",
      "metadata": {
        "id": "hK3iTejhSROI"
      },
      "source": [
        "### Correlating categorical and numerical features"
      ]
    },
    {
      "cell_type": "markdown",
      "metadata": {
        "id": "-GTtvd-QSWgE"
      },
      "source": [
        "We may also want to correlate categorical features (with non-numeric values) and numeric features. We can consider correlating Embarked (Categorical non-numeric), Sex (Categorical non-numeric), Fare (Numeric continuous), with Survived (Categorical numeric)."
      ]
    },
    {
      "cell_type": "markdown",
      "metadata": {
        "id": "4S0632kSSsKn"
      },
      "source": [
        "**Observations**\n",
        "\n",
        "*  Higher fare paying passengers had better survival rate, which confirms our assumption for creating #4 fare ranges;\n",
        "*  Port of embarkation correlates with survival rates, which confirms correlating #1 and completing #2."
      ]
    },
    {
      "cell_type": "code",
      "metadata": {
        "colab": {
          "base_uri": "https://localhost:8080/",
          "height": 0
        },
        "id": "UJyT4tHPTBzB",
        "outputId": "0c4e4ea7-96b0-427e-85e3-f5e8c8402cec"
      },
      "source": [
        "bar_embarked = sns.FacetGrid(train,row='Embarked',col='Survived',size=2.2, aspect=1.6)\n",
        "bar_embarked.map(sns.barplot, 'Sex','Fare',alpha=0.5, ci=None)\n",
        "bar_embarked.add_legend()"
      ],
      "execution_count": 194,
      "outputs": [
        {
          "output_type": "execute_result",
          "data": {
            "text/plain": [
              "<seaborn.axisgrid.FacetGrid at 0x7fddb4149150>"
            ]
          },
          "metadata": {},
          "execution_count": 194
        },
        {
          "output_type": "display_data",
          "data": {
            "image/png": "[encoded data removed]",
            "text/plain": [
              "<Figure size 514.88x475.2 with 6 Axes>"
            ]
          },
          "metadata": {
            "needs_background": "light"
          }
        }
      ]
    },
    {
      "cell_type": "markdown",
      "metadata": {
        "id": "EWTySDcaTyk3"
      },
      "source": [
        "**Decisions**\n",
        "\n",
        "Consider banding Fare features and add the banded one into model training."
      ]
    },
    {
      "cell_type": "markdown",
      "metadata": {
        "id": "D1d7jQ-nT6zY"
      },
      "source": [
        "## WRANGLE DATA"
      ]
    },
    {
      "cell_type": "markdown",
      "metadata": {
        "id": "INwFNMgFT-_S"
      },
      "source": [
        "We have collected several assumptions and decisions regarding our datasets and solution requirements. So far we did not have to change a single feature or value to arrive at these. Let's now execute our decisions and assumptions for correcting, creating, and completing goals."
      ]
    },
    {
      "cell_type": "markdown",
      "metadata": {
        "id": "C5DEcmw8kzxs"
      },
      "source": [
        "### Converting a categorical feature"
      ]
    },
    {
      "cell_type": "markdown",
      "metadata": {
        "id": "b2Y3JJQVk3rf"
      },
      "source": [
        "Now we can convert features which contain strings to numerical values. This is required by most model algorithms. Doing so will also help us in achieving the feature completing goal.\n",
        "\n",
        "Let's start by converting Sex feature to a new Sex feature where female=1 and male=0."
      ]
    },
    {
      "cell_type": "code",
      "metadata": {
        "id": "0gn-33XV--dY"
      },
      "source": [
        "for dataset in combine:\n",
        "    dataset['Sex'] = dataset['Sex'].map( {'female': 1, 'male': 0} ).astype(int)\n",
        "\n",
        "train = combine[0]\n",
        "test = combine[1]"
      ],
      "execution_count": 195,
      "outputs": []
    },
    {
      "cell_type": "code",
      "metadata": {
        "colab": {
          "base_uri": "https://localhost:8080/",
          "height": 476
        },
        "id": "uv3xf75xX3od",
        "outputId": "06266b0a-110c-4322-a9b2-5861ae555fa9"
      },
      "source": [
        "plt.subplot(1,2,1)\n",
        "sns.countplot(x='Sex',data=train, palette='Blues_d').set(title=\"Converted Sex Feature for Training Dataset\")\n",
        "plt.subplot(1,2,2)\n",
        "sns.countplot(x='Sex',data=test, palette='Blues_d').set(title=\"Converted Sex Feature for Testing Dataset\")"
      ],
      "execution_count": 264,
      "outputs": [
        {
          "output_type": "execute_result",
          "data": {
            "text/plain": [
              "[Text(0.5, 1.0, 'Converted Sex Feature for Testing Dataset')]"
            ]
          },
          "metadata": {},
          "execution_count": 264
        },
        {
          "output_type": "display_data",
          "data": {
            "image/png": "[encoded data removed]",
            "text/plain": [
              "<Figure size 1008x504 with 2 Axes>"
            ]
          },
          "metadata": {
            "needs_background": "light"
          }
        }
      ]
    },
    {
      "cell_type": "markdown",
      "metadata": {
        "id": "_htYSR5Ml1ll"
      },
      "source": [
        "### Completing a numerical continuous feature"
      ]
    },
    {
      "cell_type": "markdown",
      "metadata": {
        "id": "4pxVc8nDl596"
      },
      "source": [
        "Now we should start estimating and completing features with missing or null values. We will first do this for the Age feature.\n",
        "\n",
        "We can consider three methods to complete a numerical continuous feature.\n",
        "\n",
        "1.  A simple way is to generate random numbers between mean and standard deviation;\n",
        "2.  More accurate way of guessing missing values is to use other corrletated features. In this project, we note correlation among Age, Sex, and Pclass. Guess Age values using median values for Age across sets of Pclass and Sex feature combinations.So, median Age for Pclass=1 and Sex=0, Pclass=1 and Sex=1, and so on.\n",
        "3.  Combine methods 1 and 2. So instead of guessing age values based on median, use random numbers between means and standard deviation, based onsets of Pclass and Sex combinations.\n",
        "\n",
        "Methods 1 and 3 will introduce random noise into our models. The results from multiple executions might vary, so we will prefer method 2."
      ]
    },
    {
      "cell_type": "code",
      "metadata": {
        "colab": {
          "base_uri": "https://localhost:8080/",
          "height": 0
        },
        "id": "bV7wsC1CwDKv",
        "outputId": "07348b7c-5a00-45ae-9da5-f8f7ac885ed5"
      },
      "source": [
        "# female=1 and male=0\n",
        "hist_age = sns.FacetGrid(train, row='Pclass', col='Sex', size=2.2, aspect=1.6)\n",
        "hist_age.map(plt.hist,'Age',alpha=0.5,bins=20)\n",
        "hist_age.add_legend()"
      ],
      "execution_count": 197,
      "outputs": [
        {
          "output_type": "execute_result",
          "data": {
            "text/plain": [
              "<seaborn.axisgrid.FacetGrid at 0x7fddca861c90>"
            ]
          },
          "metadata": {},
          "execution_count": 197
        },
        {
          "output_type": "display_data",
          "data": {
            "image/png": "[encoded data removed]",
            "text/plain": [
              "<Figure size 514.88x475.2 with 6 Axes>"
            ]
          },
          "metadata": {
            "needs_background": "light"
          }
        }
      ]
    },
    {
      "cell_type": "markdown",
      "metadata": {
        "id": "DT80alnPwmj5"
      },
      "source": [
        "Let's start by preparing an empty array to contain guessed Age values based on Pclass x Sex combintions."
      ]
    },
    {
      "cell_type": "code",
      "metadata": {
        "colab": {
          "base_uri": "https://localhost:8080/"
        },
        "id": "v9xdWRYaww2-",
        "outputId": "0740e8ed-60e1-48a2-a2fc-b42dd951c436"
      },
      "source": [
        "guess_ages = np.zeros((2,3))\n",
        "guess_ages"
      ],
      "execution_count": 198,
      "outputs": [
        {
          "output_type": "execute_result",
          "data": {
            "text/plain": [
              "array([[0., 0., 0.],\n",
              "       [0., 0., 0.]])"
            ]
          },
          "metadata": {},
          "execution_count": 198
        }
      ]
    },
    {
      "cell_type": "markdown",
      "metadata": {
        "id": "QDGuRjEnw5r0"
      },
      "source": [
        "Now we iterate over Sex (0 or 1) and Pclass (1,2,3) to calculate guessed values of Age for the six combinations."
      ]
    },
    {
      "cell_type": "code",
      "metadata": {
        "id": "x8E4ju32_KHR"
      },
      "source": [
        "for dataset in combine:\n",
        "  for i in range(0, 2):\n",
        "        for j in range(0, 3):\n",
        "            guess_df = dataset[(dataset['Sex'] == i) & (dataset['Pclass'] == j+1)]['Age'].dropna()\n",
        "            age_guess = guess_df.median()\n",
        "            guess_ages[i,j] = int(age_guess/0.5+0.5)*0.5 # Convert random age float to nearest .5 age\n",
        "  for i in range(0, 2):\n",
        "        for j in range(0, 3):\n",
        "            dataset.loc[ (dataset.Age.isnull()) & (dataset.Sex == i) & (dataset.Pclass == j+1),\n",
        "                    'Age'] = guess_ages[i,j]\n",
        "\n",
        "  dataset['Age'] = dataset['Age'].astype(int)"
      ],
      "execution_count": 199,
      "outputs": []
    },
    {
      "cell_type": "code",
      "metadata": {
        "colab": {
          "base_uri": "https://localhost:8080/"
        },
        "id": "wYueql-2oB1E",
        "outputId": "93c6ae1a-5982-42f2-ce34-0353f331d544"
      },
      "source": [
        "train['Age'].isnull().sum(), test['Age'].isnull().sum()"
      ],
      "execution_count": 200,
      "outputs": [
        {
          "output_type": "execute_result",
          "data": {
            "text/plain": [
              "(0, 0)"
            ]
          },
          "metadata": {},
          "execution_count": 200
        }
      ]
    },
    {
      "cell_type": "code",
      "metadata": {
        "id": "8wAysPkeqUMJ"
      },
      "source": [
        "combine=[train,test] # Save the updated version for later analysis"
      ],
      "execution_count": 201,
      "outputs": []
    },
    {
      "cell_type": "markdown",
      "metadata": {
        "id": "w3qqwP7-ByHS"
      },
      "source": [
        "Let's create Age bands and determine correlations with Survived."
      ]
    },
    {
      "cell_type": "code",
      "metadata": {
        "id": "WSrwxYCfB2yB"
      },
      "source": [
        "train['AgeBand'] = pd.cut(train['Age'],5)"
      ],
      "execution_count": 202,
      "outputs": []
    },
    {
      "cell_type": "code",
      "metadata": {
        "colab": {
          "base_uri": "https://localhost:8080/",
          "height": 0
        },
        "id": "nosU-6oTxibI",
        "outputId": "d10d2390-86a8-47d7-924f-ebd85e49e12e"
      },
      "source": [
        "ageband_sort = train[['AgeBand','Survived']].groupby(['AgeBand'], as_index=False).mean().sort_values(by='AgeBand',ascending=True)\n",
        "ageband_sort_plot = sns.catplot(x='AgeBand',y='Survived',kind='bar', data=ageband_sort,palette=\"Blues_d\")\n",
        "ageband_sort_plot.set(title=\"The Average Survival Rate for Passengers in Different Age Bands\")\n",
        "plt.xticks(rotation=45)\n",
        "plt.show()"
      ],
      "execution_count": 203,
      "outputs": [
        {
          "output_type": "display_data",
          "data": {
            "image/png": "[encoded data removed]",
            "text/plain": [
              "<Figure size 360x360 with 1 Axes>"
            ]
          },
          "metadata": {
            "needs_background": "light"
          }
        }
      ]
    },
    {
      "cell_type": "markdown",
      "metadata": {
        "id": "y0YauFvMCS0n"
      },
      "source": [
        "Let's replace Age with ordinals based on these bands."
      ]
    },
    {
      "cell_type": "code",
      "metadata": {
        "id": "-Ii4-YMQCSdl"
      },
      "source": [
        "for dataset in combine:\n",
        "  dataset.loc[dataset['Age']<=16, 'Age'] = 0\n",
        "  dataset.loc[(dataset['Age']>16) & (dataset['Age']<=32),'Age'] = 1\n",
        "  dataset.loc[(dataset['Age']>32) & (dataset['Age']<=48),'Age'] = 2\n",
        "  dataset.loc[(dataset['Age']>48) & (dataset['Age']<=64),'Age'] = 3\n",
        "  dataset.loc[dataset['Age']>64,'Age'] = 4\n"
      ],
      "execution_count": 204,
      "outputs": []
    },
    {
      "cell_type": "code",
      "metadata": {
        "colab": {
          "base_uri": "https://localhost:8080/"
        },
        "id": "_UNLV99ZDNmk",
        "outputId": "2c99e5e3-a297-4063-9c57-fb288c322f0d"
      },
      "source": [
        "train['Age'].unique()"
      ],
      "execution_count": 205,
      "outputs": [
        {
          "output_type": "execute_result",
          "data": {
            "text/plain": [
              "array([1, 2, 3, 0, 4])"
            ]
          },
          "metadata": {},
          "execution_count": 205
        }
      ]
    },
    {
      "cell_type": "code",
      "metadata": {
        "colab": {
          "base_uri": "https://localhost:8080/"
        },
        "id": "zUopm2AasCn4",
        "outputId": "c61bd360-5959-4cf5-fd2e-d5453bb1b1cc"
      },
      "source": [
        "test['Age'].unique()"
      ],
      "execution_count": 206,
      "outputs": [
        {
          "output_type": "execute_result",
          "data": {
            "text/plain": [
              "array([2, 3, 1, 0, 4])"
            ]
          },
          "metadata": {},
          "execution_count": 206
        }
      ]
    },
    {
      "cell_type": "markdown",
      "metadata": {
        "id": "tU14L4tfEOml"
      },
      "source": [
        "We can remove the AgeBand feature."
      ]
    },
    {
      "cell_type": "code",
      "metadata": {
        "id": "gG_brlYBETcX"
      },
      "source": [
        "train = train.drop(['AgeBand'],axis=1)\n",
        "combine = [train,test] # Save the updated version for later analysis"
      ],
      "execution_count": 207,
      "outputs": []
    },
    {
      "cell_type": "code",
      "metadata": {
        "colab": {
          "base_uri": "https://localhost:8080/"
        },
        "id": "nmAhnSuEEe_k",
        "outputId": "093bde4a-68ce-4535-ea18-bbdb2c55abdf"
      },
      "source": [
        "print(train.columns.values)"
      ],
      "execution_count": 208,
      "outputs": [
        {
          "output_type": "stream",
          "name": "stdout",
          "text": [
            "['PassengerId' 'Survived' 'Pclass' 'Name' 'Sex' 'Age' 'SibSp' 'Parch'\n",
            " 'Ticket' 'Fare' 'Cabin' 'Embarked']\n"
          ]
        }
      ]
    },
    {
      "cell_type": "markdown",
      "metadata": {
        "id": "KF_l2SomHmB8"
      },
      "source": [
        "### Completing a categorical feature"
      ]
    },
    {
      "cell_type": "markdown",
      "metadata": {
        "id": "o-Nd4bheHouy"
      },
      "source": [
        "Embarked feature takes S, Q, C values based on port of embarkation. Our training dataset has two missing values. We simply fill these with the most common occurance."
      ]
    },
    {
      "cell_type": "code",
      "metadata": {
        "colab": {
          "base_uri": "https://localhost:8080/",
          "height": 0
        },
        "id": "jQg9aFGcH2SH",
        "outputId": "5e8a9b8a-a0cc-41bd-b05f-82ece411b54f"
      },
      "source": [
        "max_freq_port = train.Embarked.dropna().mode()[0] # mode(): Single mode (most common value) of discrete or nominal data\n",
        "max_freq_port"
      ],
      "execution_count": 209,
      "outputs": [
        {
          "output_type": "execute_result",
          "data": {
            "application/vnd.google.colaboratory.intrinsic+json": {
              "type": "string"
            },
            "text/plain": [
              "'S'"
            ]
          },
          "metadata": {},
          "execution_count": 209
        }
      ]
    },
    {
      "cell_type": "code",
      "metadata": {
        "id": "HX_YdL41JQ03"
      },
      "source": [
        "for dataset in combine:\n",
        "  dataset['Embarked']=dataset['Embarked'].fillna(max_freq_port)"
      ],
      "execution_count": 210,
      "outputs": []
    },
    {
      "cell_type": "code",
      "metadata": {
        "colab": {
          "base_uri": "https://localhost:8080/",
          "height": 0
        },
        "id": "RtY5F_f5JaNl",
        "outputId": "9fe2895e-36ca-4041-e8cf-29027fb14196"
      },
      "source": [
        "embarked_sort = train[['Embarked','Survived']].groupby(['Embarked']).mean().sort_values(by='Survived',ascending=False)\n",
        "embarked_sort['Embarked'] = embarked_sort.index\n",
        "embarked_sort_plot = sns.catplot(x='Embarked',y='Survived',kind='bar', data=embarked_sort,palette=\"Blues_d\")\n",
        "embarked_sort_plot.set(title=\"The Average Survival Rate for Passengers from Different Ports\")\n",
        "plt.xticks(rotation=0)\n",
        "plt.show()"
      ],
      "execution_count": 211,
      "outputs": [
        {
          "output_type": "display_data",
          "data": {
            "image/png": "[encoded data removed]",
            "text/plain": [
              "<Figure size 360x360 with 1 Axes>"
            ]
          },
          "metadata": {
            "needs_background": "light"
          }
        }
      ]
    },
    {
      "cell_type": "markdown",
      "metadata": {
        "id": "IVvd16LjJrDX"
      },
      "source": [
        "### Converting categorical feature to numeric"
      ]
    },
    {
      "cell_type": "markdown",
      "metadata": {
        "id": "Xbyx6Gb6JucJ"
      },
      "source": [
        "We can now convert the EmbarkedFill feature by creating a new numeric Port feature."
      ]
    },
    {
      "cell_type": "code",
      "metadata": {
        "id": "v3SzwwG1J4RE"
      },
      "source": [
        "for dataset in combine:\n",
        "  dataset['Embarked'] = dataset['Embarked'].map({'S':0,'C':1,'Q':2}).astype(int)"
      ],
      "execution_count": 212,
      "outputs": []
    },
    {
      "cell_type": "code",
      "metadata": {
        "colab": {
          "base_uri": "https://localhost:8080/"
        },
        "id": "ZPHz9yAgKEqC",
        "outputId": "703c63b3-f158-4168-cbc6-282e263a3346"
      },
      "source": [
        "train['Embarked'].unique()"
      ],
      "execution_count": 213,
      "outputs": [
        {
          "output_type": "execute_result",
          "data": {
            "text/plain": [
              "array([0, 1, 2])"
            ]
          },
          "metadata": {},
          "execution_count": 213
        }
      ]
    },
    {
      "cell_type": "markdown",
      "metadata": {
        "id": "RVsmIXc2KJWB"
      },
      "source": [
        "### Completing and converting a numeric feature"
      ]
    },
    {
      "cell_type": "markdown",
      "metadata": {
        "id": "tW8U-4paKPVi"
      },
      "source": [
        "We can now complete the Fare feature for single missing value in testing dataset using mode to get the value that occurs most frequently for this feature.\n",
        "\n",
        "Note that we are not creating an intermediate new feature or doing any further analysis for correlation to guess missing feature as we are replacing only a single value. The completion goal achieves desired requirement for model algorithm to operate on non-null values.\n",
        "\n",
        "We may also want to round off the fare to two decimals as it represents currency."
      ]
    },
    {
      "cell_type": "code",
      "metadata": {
        "colab": {
          "base_uri": "https://localhost:8080/"
        },
        "id": "WtrzfcuCtyJt",
        "outputId": "ed92c0a2-420d-4ee5-accd-3685009fe789"
      },
      "source": [
        "test['Fare'].isnull().sum()"
      ],
      "execution_count": 214,
      "outputs": [
        {
          "output_type": "execute_result",
          "data": {
            "text/plain": [
              "1"
            ]
          },
          "metadata": {},
          "execution_count": 214
        }
      ]
    },
    {
      "cell_type": "code",
      "metadata": {
        "id": "aebrdQdIK5a6"
      },
      "source": [
        "test['Fare'].fillna(test['Fare'].dropna().median(),inplace=True)"
      ],
      "execution_count": 215,
      "outputs": []
    },
    {
      "cell_type": "code",
      "metadata": {
        "colab": {
          "base_uri": "https://localhost:8080/"
        },
        "id": "LmWAPGTxt5AJ",
        "outputId": "e09e4a99-a7f0-4db3-a20f-946f2e6dab22"
      },
      "source": [
        "test['Fare'].isnull().sum()"
      ],
      "execution_count": 216,
      "outputs": [
        {
          "output_type": "execute_result",
          "data": {
            "text/plain": [
              "0"
            ]
          },
          "metadata": {},
          "execution_count": 216
        }
      ]
    },
    {
      "cell_type": "markdown",
      "metadata": {
        "id": "OsPTTv_5LSAc"
      },
      "source": [
        "We can create FareBand feature."
      ]
    },
    {
      "cell_type": "code",
      "metadata": {
        "id": "paUz2ZVJLV2w"
      },
      "source": [
        "train['FareBand'] = pd.qcut(train['Fare'],4)"
      ],
      "execution_count": 217,
      "outputs": []
    },
    {
      "cell_type": "code",
      "metadata": {
        "colab": {
          "base_uri": "https://localhost:8080/",
          "height": 0
        },
        "id": "JjwJlCEcwwuL",
        "outputId": "ebe30c55-2464-4183-b150-f638c8336bab"
      },
      "source": [
        "fareband_sort = train[['FareBand','Survived']].groupby(['FareBand'], as_index=False).mean().sort_values(by='FareBand',ascending=True)\n",
        "fareband_sort_plot = sns.catplot(x='FareBand',y='Survived',kind='bar', data=fareband_sort,palette=\"Blues_d\")\n",
        "fareband_sort_plot.set(title=\"The Average Survival Rate for Passengers in Different Fare Bankds\")\n",
        "plt.xticks(rotation=45)\n",
        "plt.show()"
      ],
      "execution_count": 218,
      "outputs": [
        {
          "output_type": "display_data",
          "data": {
            "image/png": "[encoded data removed]",
            "text/plain": [
              "<Figure size 360x360 with 1 Axes>"
            ]
          },
          "metadata": {
            "needs_background": "light"
          }
        }
      ]
    },
    {
      "cell_type": "code",
      "metadata": {
        "id": "DfnVeBt8uEP4"
      },
      "source": [
        "combine=[train,test] # for later analysis"
      ],
      "execution_count": 219,
      "outputs": []
    },
    {
      "cell_type": "markdown",
      "metadata": {
        "id": "WdsPauDTLy_W"
      },
      "source": [
        "Convert Fare feature to ordinal values based on FareBand feature."
      ]
    },
    {
      "cell_type": "code",
      "metadata": {
        "id": "PzNHet5fL925"
      },
      "source": [
        "for dataset in combine:\n",
        "  dataset.loc[dataset['Fare']<=7.91,'Fare'] = 0\n",
        "  dataset.loc[(dataset['Fare']>7.91) & (dataset['Fare']<=14.454),'Fare'] = 1\n",
        "  dataset.loc[(dataset['Fare']>14.454) & (dataset['Fare']<=31),'Fare'] = 2\n",
        "  dataset.loc[dataset['Fare']>31,'Fare'] = 3\n",
        "  dataset['Fare'] = dataset['Fare'].astype(int)"
      ],
      "execution_count": 220,
      "outputs": []
    },
    {
      "cell_type": "code",
      "metadata": {
        "id": "KymiO32lMkP9"
      },
      "source": [
        "train = train.drop(['FareBand'],axis=1)"
      ],
      "execution_count": 221,
      "outputs": []
    },
    {
      "cell_type": "code",
      "metadata": {
        "colab": {
          "base_uri": "https://localhost:8080/"
        },
        "id": "PMH7JjzoMqqV",
        "outputId": "f0e65f96-4e2c-49e8-e483-b2f056f4fda2"
      },
      "source": [
        "train['Fare'].unique()"
      ],
      "execution_count": 222,
      "outputs": [
        {
          "output_type": "execute_result",
          "data": {
            "text/plain": [
              "array([0, 3, 1, 2])"
            ]
          },
          "metadata": {},
          "execution_count": 222
        }
      ]
    },
    {
      "cell_type": "code",
      "metadata": {
        "colab": {
          "base_uri": "https://localhost:8080/"
        },
        "id": "oSFIVCwoMw0C",
        "outputId": "1bd6eef7-03b5-4884-b69c-4fc5b97f0624"
      },
      "source": [
        "test['Fare'].unique()"
      ],
      "execution_count": 223,
      "outputs": [
        {
          "output_type": "execute_result",
          "data": {
            "text/plain": [
              "array([0, 1, 2, 3])"
            ]
          },
          "metadata": {},
          "execution_count": 223
        }
      ]
    },
    {
      "cell_type": "code",
      "metadata": {
        "id": "7Jo3-iXiuPdQ"
      },
      "source": [
        "combine = [train,test] # Save for later analysis"
      ],
      "execution_count": 224,
      "outputs": []
    },
    {
      "cell_type": "markdown",
      "metadata": {
        "id": "TtM6oJnOUTKW"
      },
      "source": [
        "### Correcting by dropping features"
      ]
    },
    {
      "cell_type": "markdown",
      "metadata": {
        "id": "L-5lPda8UXyK"
      },
      "source": [
        "By dropping features we are dealing with fewer data points, speeding up our notebook and easing the analysis.\n",
        "\n",
        "Based on our assumptions and decisions, we want to drop the Cabin (correcting #2) and Ticket (correcting #1) features.\n",
        "\n",
        "Note that where applicable we perform operations on both training and testing datasets together by stay consistent."
      ]
    },
    {
      "cell_type": "code",
      "metadata": {
        "colab": {
          "base_uri": "https://localhost:8080/"
        },
        "id": "S7xbhm1UWhGa",
        "outputId": "fe88bdb2-19a0-4fcc-9155-9d0b594e6347"
      },
      "source": [
        "print('Before dropping Cabin and Ticket features', train.shape,test.shape)\n",
        "train = train.drop(['Cabin','Ticket'],axis=1)\n",
        "test = test.drop(['Cabin','Ticket'],axis=1)\n",
        "print('After dropping Cabin and Ticket features', train.shape,test.shape)"
      ],
      "execution_count": 225,
      "outputs": [
        {
          "output_type": "stream",
          "name": "stdout",
          "text": [
            "Before dropping Cabin and Ticket features (891, 12) (418, 11)\n",
            "After dropping Cabin and Ticket features (891, 10) (418, 9)\n"
          ]
        }
      ]
    },
    {
      "cell_type": "code",
      "metadata": {
        "id": "0NbxrOwzwaSN"
      },
      "source": [
        "combine=[train,test] # Save for later analysis"
      ],
      "execution_count": 226,
      "outputs": []
    },
    {
      "cell_type": "markdown",
      "metadata": {
        "id": "QKmilK6mXFVB"
      },
      "source": [
        "### Creating new feature extracting from existing ones"
      ]
    },
    {
      "cell_type": "markdown",
      "metadata": {
        "id": "TtHADNWwXPoS"
      },
      "source": [
        "We want to analyze if Name feature can be engineered to extract titles and test correlation between titles and survival rate, before dropping Name feature.\n",
        "\n",
        "In the following code, we extract Title feature using regular expressions. The RegEx pattern `(\\w+\\.)` matches the first word which ends with ends with a dot character within Name feature. The `expand=False` flag returns a dataframe."
      ]
    },
    {
      "cell_type": "code",
      "metadata": {
        "id": "afzXUpEf-Dsq"
      },
      "source": [
        "for dataset in combine:\n",
        "    dataset['Title'] = dataset.Name.str.extract(' ([A-Za-z]+)\\.', expand=False)"
      ],
      "execution_count": 227,
      "outputs": []
    },
    {
      "cell_type": "code",
      "metadata": {
        "id": "165XhhkkwxLl"
      },
      "source": [
        "title_train = pd.crosstab(train['Title'], train['Sex'])\n",
        "title_train['Title'] = title_train.index"
      ],
      "execution_count": 228,
      "outputs": []
    },
    {
      "cell_type": "code",
      "metadata": {
        "colab": {
          "base_uri": "https://localhost:8080/",
          "height": 0
        },
        "id": "eCM-Pbj7cOqB",
        "outputId": "e30d7bc5-bb88-46ea-af44-6face3bf22dc"
      },
      "source": [
        "#plt.figure(figsize=(10,5))\n",
        "plt.subplot(1,2,1)\n",
        "sns.barplot(x='Title', y=0, data=title_train,palette=\"Blues_d\")\n",
        "plt.title(\"Titles for Male Passengers in Training Dataset\")\n",
        "plt.xticks(rotation=45)\n",
        "plt.subplot(1,2,2)\n",
        "sns.barplot(x='Title', y=1,data=title_train,palette=\"Blues_d\")\n",
        "plt.title(\"Titles for Female Passengers in Training Dataset\")\n",
        "plt.xticks(rotation=45)"
      ],
      "execution_count": 229,
      "outputs": [
        {
          "output_type": "execute_result",
          "data": {
            "text/plain": [
              "(array([ 0,  1,  2,  3,  4,  5,  6,  7,  8,  9, 10, 11, 12, 13, 14, 15, 16]),\n",
              " <a list of 17 Text major ticklabel objects>)"
            ]
          },
          "metadata": {},
          "execution_count": 229
        },
        {
          "output_type": "display_data",
          "data": {
            "image/png": "[encoded data removed]",
            "text/plain": [
              "<Figure size 1008x504 with 2 Axes>"
            ]
          },
          "metadata": {
            "needs_background": "light"
          }
        }
      ]
    },
    {
      "cell_type": "code",
      "metadata": {
        "id": "gJ0z2VOAADuC"
      },
      "source": [
        "title_test = pd.crosstab(test['Title'], test['Sex'])\n",
        "title_test['Title'] = title_test.index"
      ],
      "execution_count": 230,
      "outputs": []
    },
    {
      "cell_type": "code",
      "metadata": {
        "colab": {
          "base_uri": "https://localhost:8080/",
          "height": 0
        },
        "id": "dLqK1_FZcmyk",
        "outputId": "7931326c-9245-4d08-811b-56c6f08cd87e"
      },
      "source": [
        "#plt.figure(figsize=(10,5))\n",
        "plt.subplot(1,2,1)\n",
        "sns.barplot(x='Title', y=0, data=title_test,palette=\"Blues_d\")\n",
        "plt.title(\"Titles for Male Passengers in Testing Dataset\")\n",
        "plt.xticks(rotation=45)\n",
        "plt.subplot(1,2,2)\n",
        "sns.barplot(x='Title', y=1,data=title_test,palette=\"Blues_d\")\n",
        "plt.title(\"Titles for Female Passengers in Testing Dataset\")\n",
        "plt.xticks(rotation=45)"
      ],
      "execution_count": 231,
      "outputs": [
        {
          "output_type": "execute_result",
          "data": {
            "text/plain": [
              "(array([0, 1, 2, 3, 4, 5, 6, 7, 8]),\n",
              " <a list of 9 Text major ticklabel objects>)"
            ]
          },
          "metadata": {},
          "execution_count": 231
        },
        {
          "output_type": "display_data",
          "data": {
            "image/png": "[encoded data removed]",
            "text/plain": [
              "<Figure size 1008x504 with 2 Axes>"
            ]
          },
          "metadata": {
            "needs_background": "light"
          }
        }
      ]
    },
    {
      "cell_type": "markdown",
      "metadata": {
        "id": "sgdATE-DEAQT"
      },
      "source": [
        "We can replace many titles with a more common name or classify them as `Rare`."
      ]
    },
    {
      "cell_type": "code",
      "metadata": {
        "colab": {
          "base_uri": "https://localhost:8080/",
          "height": 0
        },
        "id": "8ptcab4i9wRv",
        "outputId": "c930644e-85ba-4cc1-a07b-97d56f5929f4"
      },
      "source": [
        "for dataset in combine:\n",
        "    dataset['Title'] = dataset['Title'].replace(['Lady', 'Countess','Capt', 'Col', 'Don', 'Dr', 'Major', 'Rev', 'Sir', 'Jonkheer', 'Dona'], 'Rare')\n",
        "    dataset['Title'] = dataset['Title'].replace('Mlle', 'Miss')\n",
        "    dataset['Title'] = dataset['Title'].replace('Ms', 'Miss')\n",
        "    dataset['Title'] = dataset['Title'].replace('Mme', 'Mrs')\n",
        "    \n",
        "title_sort = train[['Title', 'Survived']].groupby(['Title'], as_index=False).mean()\n",
        "title_plot =  sns.catplot(x='Title',y='Survived',kind='bar', data=title_sort,palette=\"Blues_d\")\n",
        "title_plot.set(title=\"The Average Survival Rate for Passengers in Different Titles\")\n",
        "plt.xticks(rotation=45)\n",
        "plt.show()"
      ],
      "execution_count": 232,
      "outputs": [
        {
          "output_type": "display_data",
          "data": {
            "image/png": "[encoded data removed]",
            "text/plain": [
              "<Figure size 360x360 with 1 Axes>"
            ]
          },
          "metadata": {
            "needs_background": "light"
          }
        }
      ]
    },
    {
      "cell_type": "markdown",
      "metadata": {
        "id": "s8mJjHlddcL2"
      },
      "source": [
        "We can convert the categorical title to ordinal."
      ]
    },
    {
      "cell_type": "code",
      "metadata": {
        "id": "HQDY0HOndgqp"
      },
      "source": [
        "title_mapping = {\"Mr\": 1, \"Miss\": 2, \"Mrs\": 3, \"Master\": 4, \"Rare\": 5}\n",
        "for dataset in combine:\n",
        "    dataset['Title'] = dataset['Title'].map(title_mapping)\n",
        "    dataset['Title'] = dataset['Title'].fillna(0)"
      ],
      "execution_count": 233,
      "outputs": []
    },
    {
      "cell_type": "code",
      "metadata": {
        "colab": {
          "base_uri": "https://localhost:8080/"
        },
        "id": "EcjQPMgrywUC",
        "outputId": "085bfc69-9ff7-4de2-9b62-992419059d93"
      },
      "source": [
        "print(train['Title'].unique())\n",
        "print(test['Title'].unique())"
      ],
      "execution_count": 234,
      "outputs": [
        {
          "output_type": "stream",
          "name": "stdout",
          "text": [
            "[1 3 2 4 5]\n",
            "[1 3 2 4 5]\n"
          ]
        }
      ]
    },
    {
      "cell_type": "markdown",
      "metadata": {
        "id": "lSyzJCd6fdTT"
      },
      "source": [
        "Now we can safely drop the Name feature from training and testing datasets. We also do not need the PassengerId feature in the training dataset."
      ]
    },
    {
      "cell_type": "code",
      "metadata": {
        "colab": {
          "base_uri": "https://localhost:8080/"
        },
        "id": "1BG1DGZIfc6l",
        "outputId": "7bda90d4-d8b7-467a-9bc0-5a407b08e47a"
      },
      "source": [
        "train = train.drop(['Name','PassengerId'],axis=1)\n",
        "test_id = test['PassengerId']\n",
        "test = test.drop(['Name','PassengerId'],axis=1)\n",
        "combine = [train,test]\n",
        "train.shape,test.shape"
      ],
      "execution_count": 235,
      "outputs": [
        {
          "output_type": "execute_result",
          "data": {
            "text/plain": [
              "((891, 9), (418, 8))"
            ]
          },
          "metadata": {},
          "execution_count": 235
        }
      ]
    },
    {
      "cell_type": "code",
      "metadata": {
        "id": "pisOjPmyzLam"
      },
      "source": [
        "combine=[train,test] # Save for later analysis"
      ],
      "execution_count": 236,
      "outputs": []
    },
    {
      "cell_type": "markdown",
      "metadata": {
        "id": "cU7UiUlGaxf_"
      },
      "source": [
        "**Observations**\n",
        "\n",
        "When we plot Title, Age, and Survived, we note the following obsevations.\n",
        "\n",
        "*  Most titles have band Age groups. For example, Master title has Age < 16 years old;\n",
        "*  Certain titles mostly survived (Miss, Mrs) or did not (Mr)."
      ]
    },
    {
      "cell_type": "code",
      "metadata": {
        "colab": {
          "base_uri": "https://localhost:8080/",
          "height": 0
        },
        "id": "83Kvoddqhl0h",
        "outputId": "5445c346-a678-4395-d988-b7f542a7a813"
      },
      "source": [
        "# \"Mr\": 1, \"Miss\": 2, \"Mrs\": 3, \"Master\": 4, \"Rare\": 5\n",
        "hist_title = sns.FacetGrid(train,col='Survived', row=\"Title\",size=2.2,aspect=1.6)\n",
        "hist_title.map(plt.hist,'Age', alpha = .5, bins=20)\n",
        "hist_title.add_legend()"
      ],
      "execution_count": 237,
      "outputs": [
        {
          "output_type": "execute_result",
          "data": {
            "text/plain": [
              "<seaborn.axisgrid.FacetGrid at 0x7fddb28c5b10>"
            ]
          },
          "metadata": {},
          "execution_count": 237
        },
        {
          "output_type": "display_data",
          "data": {
            "image/png": "[encoded data removed]",
            "text/plain": [
              "<Figure size 514.88x792 with 10 Axes>"
            ]
          },
          "metadata": {
            "needs_background": "light"
          }
        }
      ]
    },
    {
      "cell_type": "markdown",
      "metadata": {
        "id": "asSs3exIan4b"
      },
      "source": [
        "**Decisions**\n",
        "\n",
        "We decide to retain the new Title feature for model training."
      ]
    },
    {
      "cell_type": "markdown",
      "metadata": {
        "id": "02a-st_iFO24"
      },
      "source": [
        "### Creating new feature combining existing features"
      ]
    },
    {
      "cell_type": "markdown",
      "metadata": {
        "id": "wca3KVjuFXlb"
      },
      "source": [
        "We can create a new feature for FamilySize which combines Parch and SibSp. This will enable us to drop Parch and SibSp from our datasets."
      ]
    },
    {
      "cell_type": "code",
      "metadata": {
        "id": "VOiT0-i8Fl-q"
      },
      "source": [
        "for dataset in combine:\n",
        "  dataset['FamilySize'] = dataset['SibSp'] + dataset['Parch'] + 1"
      ],
      "execution_count": 238,
      "outputs": []
    },
    {
      "cell_type": "code",
      "metadata": {
        "colab": {
          "base_uri": "https://localhost:8080/",
          "height": 0
        },
        "id": "pheqekxNFzwk",
        "outputId": "08b90d93-4c50-4a40-ff25-c7f857fd1e37"
      },
      "source": [
        "family_size_sort = train[['FamilySize','Survived']].groupby(['FamilySize'], as_index=False).mean().sort_values(by='Survived',ascending=False)\n",
        "family_size_plot = sns.catplot(x='FamilySize',y='Survived',kind='bar', data=family_size_sort,palette=\"Blues_d\")\n",
        "family_size_plot.set(title=\"The Average Survival Rate for Passengers in Different Family Sizes\")\n",
        "plt.xticks(rotation=45)\n",
        "plt.show()"
      ],
      "execution_count": 239,
      "outputs": [
        {
          "output_type": "display_data",
          "data": {
            "image/png": "[encoded data removed]",
            "text/plain": [
              "<Figure size 360x360 with 1 Axes>"
            ]
          },
          "metadata": {
            "needs_background": "light"
          }
        }
      ]
    },
    {
      "cell_type": "markdown",
      "metadata": {
        "id": "eI2ZKJ9GFYt8"
      },
      "source": [
        "We can create another feature called IsAlone."
      ]
    },
    {
      "cell_type": "code",
      "metadata": {
        "id": "v3lCVFpJGL-5"
      },
      "source": [
        "for dataset in combine:\n",
        "  dataset['IsAlone'] = 0\n",
        "  dataset.loc[dataset['FamilySize'] == 1, 'IsAlone'] = 1"
      ],
      "execution_count": 240,
      "outputs": []
    },
    {
      "cell_type": "code",
      "metadata": {
        "colab": {
          "base_uri": "https://localhost:8080/",
          "height": 0
        },
        "id": "IdQRSdNKGW-B",
        "outputId": "ccd22a3a-c1af-428c-cf13-02d85c5ffe4e"
      },
      "source": [
        "IsAlone = train[['IsAlone','Survived']].groupby(['IsAlone'], as_index=False).mean()\n",
        "IsAlone_plot = sns.catplot(x='IsAlone',y='Survived',kind='bar', data=IsAlone,palette=\"Blues_d\")\n",
        "IsAlone_plot.set(title=\"The Average Survival Rate for Passengers who is Alone or Not\")\n",
        "plt.xticks(rotation=0)\n",
        "plt.show()"
      ],
      "execution_count": 241,
      "outputs": [
        {
          "output_type": "display_data",
          "data": {
            "image/png": "[encoded data removed]",
            "text/plain": [
              "<Figure size 360x360 with 1 Axes>"
            ]
          },
          "metadata": {
            "needs_background": "light"
          }
        }
      ]
    },
    {
      "cell_type": "markdown",
      "metadata": {
        "id": "6QE-g1uVGnfs"
      },
      "source": [
        "Let's drop Parch, SibSp, and FamilySize features in favor of IsAlone."
      ]
    },
    {
      "cell_type": "code",
      "metadata": {
        "id": "n7-4FWCWGt5F"
      },
      "source": [
        "train = train.drop(['Parch','SibSp','FamilySize'],axis=1)\n",
        "test = test.drop(['Parch','SibSp','FamilySize'],axis=1)\n",
        "combine = [train,test]"
      ],
      "execution_count": 242,
      "outputs": []
    },
    {
      "cell_type": "code",
      "metadata": {
        "colab": {
          "base_uri": "https://localhost:8080/"
        },
        "id": "znol6lVy1gwb",
        "outputId": "86283b68-068f-4a42-a184-7bd7712a891d"
      },
      "source": [
        "print(train['IsAlone'].unique())\n",
        "print(test['IsAlone'].unique())"
      ],
      "execution_count": 243,
      "outputs": [
        {
          "output_type": "stream",
          "name": "stdout",
          "text": [
            "[0 1]\n",
            "[1 0]\n"
          ]
        }
      ]
    },
    {
      "cell_type": "markdown",
      "metadata": {
        "id": "cw_DcDJfHI31"
      },
      "source": [
        "We can also create an aritificial feature combining Pclass and Age."
      ]
    },
    {
      "cell_type": "code",
      "metadata": {
        "id": "8SNpziz4HORJ"
      },
      "source": [
        "#for dataset in combine:\n",
        "#  dataset['Age*Class'] = dataset.Age * dataset.Pclass"
      ],
      "execution_count": 244,
      "outputs": []
    },
    {
      "cell_type": "code",
      "metadata": {
        "id": "gw08uPjFHX1l"
      },
      "source": [
        "#train.loc[:,['Age*Class','Age','Pclass']].head()"
      ],
      "execution_count": 245,
      "outputs": []
    },
    {
      "cell_type": "markdown",
      "metadata": {
        "id": "gLKApp94M1gU"
      },
      "source": [
        "## MODEL, PREDICT AND SOLVE"
      ]
    },
    {
      "cell_type": "markdown",
      "metadata": {
        "id": "RSaczl69M_CU"
      },
      "source": [
        "Now we are ready to train a model and predict the required solution. There're 60+ predictive modelling algorithms to choose from. We must understand the type of problem and solution requirement to narrow down to a select few models which we can evaluate. Our problem is a classification and regression problem. We want to identify relationship between output (Surived or not) with other variables or features (Sex, Age, Embarked ...). We are also performing a category of machine learning which is supervised learning as we are training our model with a given dataset. With these two criteria - Supervised Learning plus Classification and Regression, we can narrow down our choice of models to a few. These include:\n",
        "\n",
        "*  Logistic Regression\n",
        "*  Support Vector Machines\n",
        "*  KNN or K-Nearest Neighbors\n",
        "*  Gaussian Naive Bayes\n",
        "*  Perception\n",
        "*  Decision Tree\n",
        "*  Random Forest\n"
      ]
    },
    {
      "cell_type": "code",
      "metadata": {
        "colab": {
          "base_uri": "https://localhost:8080/"
        },
        "id": "WQvsL5yOOQSK",
        "outputId": "d7d71af8-4ab8-41ce-d142-4749c3caebfd"
      },
      "source": [
        "X_train = train.drop('Survived',axis=1)\n",
        "Y_train = train['Survived']\n",
        "X_train.shape, Y_train.shape"
      ],
      "execution_count": 246,
      "outputs": [
        {
          "output_type": "execute_result",
          "data": {
            "text/plain": [
              "((891, 7), (891,))"
            ]
          },
          "metadata": {},
          "execution_count": 246
        }
      ]
    },
    {
      "cell_type": "markdown",
      "metadata": {
        "id": "n7XsphloO6Ad"
      },
      "source": [
        "### Logistic Regression"
      ]
    },
    {
      "cell_type": "markdown",
      "metadata": {
        "id": "_JrBszzIO9Pp"
      },
      "source": [
        "Logistic Regression is a useful model to run early in the workflow. Logistic regression measures the relationship between the categorical dependent variable (feature) and one or more independent variables (features) by estimating probabilites usign a logistic function, which is the cumulative logistic distribution. Reference [Wikipedia](https://en.wikipedia.org/wiki/Logistic_regression).\n",
        "\n",
        "Note the confidence score genereated by the model based on the training dataset."
      ]
    },
    {
      "cell_type": "code",
      "metadata": {
        "colab": {
          "base_uri": "https://localhost:8080/"
        },
        "id": "LCgirV1YPmpR",
        "outputId": "f744472a-22b2-41ab-867b-4e05ff9e310b"
      },
      "source": [
        "logreg = LogisticRegression()\n",
        "logreg.fit(X_train,Y_train)\n",
        "acc_log = round(logreg.score(X_train,Y_train)*100,2)\n",
        "acc_log"
      ],
      "execution_count": 247,
      "outputs": [
        {
          "output_type": "execute_result",
          "data": {
            "text/plain": [
              "81.37"
            ]
          },
          "metadata": {},
          "execution_count": 247
        }
      ]
    },
    {
      "cell_type": "markdown",
      "metadata": {
        "id": "9W5_r3ElCOyV"
      },
      "source": [
        "We can use Logistic Regerssion to validate our assumptions and decisions for feature createing and completing goals. This can be done by calculating the coefficient of the features in the decision function.\n",
        "\n",
        "Positive coefficient increase the log-odds of the response (and thus increase the probability), and negative coefficients decrease the log-odds of the response (and thus decrease the probability).\n",
        "*  Sex is highest positive coefficient, implying as the Sex value increases (male:0 to female:1), the probability of Survived=1 increases the most;\n",
        "*  Inversely as Pclass increases, probability of Survived=1 decreases the most;\n",
        "*  Title is second highest positive correlation;\n",
        "*  Except Age, all other features are statistically significant, which indicates we may drop Age feature to see whether we could have higher condifence scores."
      ]
    },
    {
      "cell_type": "code",
      "metadata": {
        "id": "AjhiO9GvDqlF"
      },
      "source": [
        "coef_df = pd.DataFrame(train.columns.delete(0))\n",
        "coef_df.columns = ['Feature']\n",
        "coef_df['Correlation'] = pd.Series(logreg.coef_[0])\n",
        "coef_df['Statistical Significance'] = (f_regression(X_train,Y_train)[1]<0.05).tolist()\n",
        "coef_df_sort = coef_df.sort_values(by='Correlation', ascending=False)"
      ],
      "execution_count": 248,
      "outputs": []
    },
    {
      "cell_type": "code",
      "metadata": {
        "colab": {
          "base_uri": "https://localhost:8080/",
          "height": 0
        },
        "id": "Z2ypGjC5bq5G",
        "outputId": "9339c692-0d2a-4773-daba-9e00dc1c9bd7"
      },
      "source": [
        "#plt.figure(figsize=(10,5))\n",
        "plt.subplot(1,2,1)\n",
        "sns.barplot(x='Feature',y='Correlation', data=coef_df_sort,palette=\"Blues_d\")\n",
        "plt.title(\"Coefficients of Each Feature in the Logistic Regression Model\")\n",
        "plt.xticks(rotation=45)\n",
        "plt.subplot(1,2,2)\n",
        "sns.pointplot(x='Feature',y='Statistical Significance', data=coef_df_sort,palette=\"Blues_d\")\n",
        "plt.title(\"Statistical Significance of Each Feature in the Logistic Regression Model\")\n",
        "plt.xticks(rotation=45)\n"
      ],
      "execution_count": 249,
      "outputs": [
        {
          "output_type": "execute_result",
          "data": {
            "text/plain": [
              "(array([0, 1, 2, 3, 4, 5, 6]), <a list of 7 Text major ticklabel objects>)"
            ]
          },
          "metadata": {},
          "execution_count": 249
        },
        {
          "output_type": "display_data",
          "data": {
            "image/png": "[encoded data removed]",
            "text/plain": [
              "<Figure size 1008x504 with 2 Axes>"
            ]
          },
          "metadata": {
            "needs_background": "light"
          }
        }
      ]
    },
    {
      "cell_type": "code",
      "metadata": {
        "colab": {
          "base_uri": "https://localhost:8080/"
        },
        "id": "s9aHLB_AdVM4",
        "outputId": "0ecbbe81-f2c8-49e7-e0bf-9e3fd60154b4"
      },
      "source": [
        "X_noAge_train=X_train.drop('Age',axis=1)\n",
        "logreg_noAge=LogisticRegression()\n",
        "logreg_noAge.fit(X_noAge_train ,Y_train)\n",
        "acc_log_noAge= round(logreg1.score(X_noAge_train,Y_train)*100,2)\n",
        "acc_log_noAge "
      ],
      "execution_count": 250,
      "outputs": [
        {
          "output_type": "execute_result",
          "data": {
            "text/plain": [
              "77.89"
            ]
          },
          "metadata": {},
          "execution_count": 250
        }
      ]
    },
    {
      "cell_type": "markdown",
      "metadata": {
        "id": "LBgzkCCkdvO9"
      },
      "source": [
        "After dropping Age feature, we did not get a higher confidence score so we decide to retain Age feature in model training for other algorithms."
      ]
    },
    {
      "cell_type": "markdown",
      "metadata": {
        "id": "MoO_qD1oEw7q"
      },
      "source": [
        "### Support Vector Machines"
      ]
    },
    {
      "cell_type": "markdown",
      "metadata": {
        "id": "5MHTacB0FF8f"
      },
      "source": [
        "Support Vector Machines are supervised learning models with associated learning algorithms that analyze data used for classification and regression analysis. Given a set of training samples, each marked as belonging to one or the other of two categories, an SVM training algorithm builds a model that assigns new test samples to one category or the other, making it a non-probabilistic binary linear classifier. Reference [Wikepedia](https://en.wikipedia.org/wiki/Support_vector_machine).\n"
      ]
    },
    {
      "cell_type": "code",
      "metadata": {
        "colab": {
          "base_uri": "https://localhost:8080/"
        },
        "id": "Oye0UEuLFzX1",
        "outputId": "e3878688-8ac9-4a75-89b5-12003d7d9910"
      },
      "source": [
        "svc = SVC()\n",
        "svc.fit(X_train, Y_train)\n",
        "acc_svc = round(svc.score(X_train,Y_train)*100,2)\n",
        "acc_svc"
      ],
      "execution_count": 251,
      "outputs": [
        {
          "output_type": "execute_result",
          "data": {
            "text/plain": [
              "83.28"
            ]
          },
          "metadata": {},
          "execution_count": 251
        }
      ]
    },
    {
      "cell_type": "markdown",
      "metadata": {
        "id": "6RFwWzYLH8dM"
      },
      "source": [
        "### K-Nearst Neighbor"
      ]
    },
    {
      "cell_type": "markdown",
      "metadata": {
        "id": "cgZdHuJpIDAp"
      },
      "source": [
        "In pattern recognition, the k-Nearest Neighbors algorithm (or k-NN for short) is a non-parametric method used for classification and regression. A sample is classified by a majority vote of its neighbors, with the same being assigned to the class most common among its k nearest neighbors (k is a positive integer, typicall small). If k = 1, then the object is simply assigned to the class of that single nearest neighbor. Reference [Wikipedia](https://en.wikipedia.org/wiki/K-nearest_neighbors_algorithm)."
      ]
    },
    {
      "cell_type": "code",
      "metadata": {
        "colab": {
          "base_uri": "https://localhost:8080/"
        },
        "id": "evLpsMLkI2a_",
        "outputId": "d1af7eaa-9884-42f1-c5bb-673b64ceedfd"
      },
      "source": [
        "knn = KNeighborsClassifier(n_neighbors=3) # ? n_neighbors\n",
        "knn.fit(X_train, Y_train)\n",
        "acc_knn = round(knn.score(X_train,Y_train)*100,2)\n",
        "acc_knn"
      ],
      "execution_count": 252,
      "outputs": [
        {
          "output_type": "execute_result",
          "data": {
            "text/plain": [
              "84.62"
            ]
          },
          "metadata": {},
          "execution_count": 252
        }
      ]
    },
    {
      "cell_type": "markdown",
      "metadata": {
        "id": "iCmR9amfJoUV"
      },
      "source": [
        "### Gaussian Naive Bayes"
      ]
    },
    {
      "cell_type": "markdown",
      "metadata": {
        "id": "HngN72K_Jtik"
      },
      "source": [
        "In machine learning, naive Bayes classifier are a family of simple probabilistic classifiers based on applying Bayes' theorem with strong (naive) independence assumptions between the features. Naive Bayes classifiers are highly scalable, requiring a number of parameters linear in the number of variables (features) in learning problem. Reference [Wikipedia](https://en.wikipedia.org/wiki/Naive_Bayes_classifier)."
      ]
    },
    {
      "cell_type": "code",
      "metadata": {
        "colab": {
          "base_uri": "https://localhost:8080/"
        },
        "id": "LKamvQJYKaQh",
        "outputId": "484b7c45-aa82-4fb6-b9fd-04684e8e2eef"
      },
      "source": [
        "gaussian = GaussianNB()\n",
        "gaussian.fit(X_train,Y_train)\n",
        "acc_gaussian = round(gaussian.score(X_train,Y_train)*100,2)\n",
        "acc_gaussian"
      ],
      "execution_count": 253,
      "outputs": [
        {
          "output_type": "execute_result",
          "data": {
            "text/plain": [
              "77.33"
            ]
          },
          "metadata": {},
          "execution_count": 253
        }
      ]
    },
    {
      "cell_type": "markdown",
      "metadata": {
        "id": "CAXRCAtHKwfm"
      },
      "source": [
        "### Perceptron"
      ]
    },
    {
      "cell_type": "markdown",
      "metadata": {
        "id": "vLduQzCyK1NX"
      },
      "source": [
        "The perceptron is an algorithm for supervised learning of binary classifier (functions that can decide whether an input, represented by a vector of numbers, belongs to some specific class or not). It is a type of linear classifier, i.e. a classification algorithm that makes its predictions based on a linear predictor function combining a set of weights with the feature vector. The algorithm allows for online learning, it that it processes elements in the training set one at a time. Reference [Wikipedia](https://en.wikipedia.org/wiki/Perceptron)."
      ]
    },
    {
      "cell_type": "code",
      "metadata": {
        "colab": {
          "base_uri": "https://localhost:8080/"
        },
        "id": "Ib-vfDxdLgPr",
        "outputId": "57e7d4a0-9aba-4ac8-8356-586ba2e3f61a"
      },
      "source": [
        "perceptron = Perceptron()\n",
        "perceptron.fit(X_train,Y_train)\n",
        "acc_perceptron = round(perceptron.score(X_train,Y_train)*100,2)\n",
        "acc_perceptron"
      ],
      "execution_count": 254,
      "outputs": [
        {
          "output_type": "execute_result",
          "data": {
            "text/plain": [
              "78.34"
            ]
          },
          "metadata": {},
          "execution_count": 254
        }
      ]
    },
    {
      "cell_type": "markdown",
      "metadata": {
        "id": "D0Xvm8H-MqU7"
      },
      "source": [
        "### Decision Tree"
      ]
    },
    {
      "cell_type": "markdown",
      "metadata": {
        "id": "-GlkE0jhMtwP"
      },
      "source": [
        "Decision tree is a predictive model which maps features (tree branches) to conclusion about the target value (tree leaves). Tree models where the target variable can take a finite set of values are called classification tree; in these tree structures, leaves represent class labels and branches represent conjunctions of features that lead to those class labels. Decision tress where the target variable can take continuous values (typically real numbers) are called regression trees. Reference [Wikipedia](https://en.wikipedia.org/wiki/Decision_tree_learning).\n",
        "\n"
      ]
    },
    {
      "cell_type": "code",
      "metadata": {
        "colab": {
          "base_uri": "https://localhost:8080/"
        },
        "id": "UAxGl8eMNl8C",
        "outputId": "47818f65-f11b-43fa-ee13-bfe38bfdd3b7"
      },
      "source": [
        "decision_tree = DecisionTreeClassifier()\n",
        "decision_tree.fit(X_train,Y_train)\n",
        "acc_decision_tree = round(decision_tree.score(X_train,Y_train)*100,2)\n",
        "acc_decision_tree"
      ],
      "execution_count": 255,
      "outputs": [
        {
          "output_type": "execute_result",
          "data": {
            "text/plain": [
              "86.64"
            ]
          },
          "metadata": {},
          "execution_count": 255
        }
      ]
    },
    {
      "cell_type": "markdown",
      "metadata": {
        "id": "fIk2aYIfN8y2"
      },
      "source": [
        "### Random Forest"
      ]
    },
    {
      "cell_type": "markdown",
      "metadata": {
        "id": "c3UnVCKDOAqq"
      },
      "source": [
        "Random forests or random decision forest are an ensemble learning method for classification, regression, and other tasks, that operate by constructing a multitude of decision trees (n_estimators) at training time and outputting the class that is the mode of the classes (classification) or mean prediction (regression) of the individual trees. Reference [Wikipedia](https://en.wikipedia.org/wiki/Random_forest)."
      ]
    },
    {
      "cell_type": "code",
      "metadata": {
        "colab": {
          "base_uri": "https://localhost:8080/"
        },
        "id": "MFJltn-vdsNN",
        "outputId": "a6e3a1af-eca1-4b36-df7a-f73435bcc0a3"
      },
      "source": [
        "random_forest = RandomForestClassifier(n_estimators=100)\n",
        "random_forest.fit(X_train,Y_train)\n",
        "acc_random_forest = round(random_forest.score(X_train,Y_train)*100,2)\n",
        "acc_random_forest"
      ],
      "execution_count": 256,
      "outputs": [
        {
          "output_type": "execute_result",
          "data": {
            "text/plain": [
              "86.64"
            ]
          },
          "metadata": {},
          "execution_count": 256
        }
      ]
    },
    {
      "cell_type": "markdown",
      "metadata": {
        "id": "bALy1yNZeKEu"
      },
      "source": [
        "### Model evaluation"
      ]
    },
    {
      "cell_type": "markdown",
      "metadata": {
        "id": "7TL50585eNLQ"
      },
      "source": [
        "We can now rank our evaluation of all the models to choose the best for our problem. "
      ]
    },
    {
      "cell_type": "code",
      "metadata": {
        "id": "mnr0vt3YehRW"
      },
      "source": [
        "models = pd.DataFrame({\n",
        "    'Model':['Support Vector Machines', 'KNN', 'Logistic Regression','Random Forest','Naive Bayes','Perceptron','Decision Tree'],\n",
        "    'Score':[acc_svc,acc_knn,acc_log,acc_random_forest,acc_gaussian,acc_perceptron,acc_decision_tree]\n",
        "})"
      ],
      "execution_count": 257,
      "outputs": []
    },
    {
      "cell_type": "code",
      "metadata": {
        "colab": {
          "base_uri": "https://localhost:8080/",
          "height": 0
        },
        "id": "per94zeqoHG1",
        "outputId": "384d3cd1-38e8-42fe-de64-5a4ce78282b5"
      },
      "source": [
        "models_sort =  models.sort_values(by='Score',ascending=False)\n",
        "model_plot = sns.catplot(x='Model',y='Score',kind='bar', data=models_sort,palette=\"Blues_d\")\n",
        "model_plot.set(title=\"Confidence Score for Each Model\")\n",
        "plt.xticks(rotation=90)\n",
        "plt.show()"
      ],
      "execution_count": 258,
      "outputs": [
        {
          "output_type": "display_data",
          "data": {
            "image/png": "[encoded data removed]",
            "text/plain": [
              "<Figure size 360x360 with 1 Axes>"
            ]
          },
          "metadata": {
            "needs_background": "light"
          }
        }
      ]
    },
    {
      "cell_type": "markdown",
      "metadata": {
        "id": "YWg5_o1ufY4C"
      },
      "source": [
        "While both Decision Tree and Random Forest score the same, we choose to use Random Forest as they correct for decision trees' habit of overfitting to their training set."
      ]
    },
    {
      "cell_type": "markdown",
      "metadata": {
        "id": "gvZ-ASdmjyYK"
      },
      "source": [
        "### Prediction"
      ]
    },
    {
      "cell_type": "code",
      "metadata": {
        "colab": {
          "base_uri": "https://localhost:8080/"
        },
        "id": "NPrNw8kA2h7S",
        "outputId": "f4ba9bbc-b6e7-4809-dadd-d29415191651"
      },
      "source": [
        "X_test = test.copy()\n",
        "X_test.shape"
      ],
      "execution_count": 259,
      "outputs": [
        {
          "output_type": "execute_result",
          "data": {
            "text/plain": [
              "(418, 7)"
            ]
          },
          "metadata": {},
          "execution_count": 259
        }
      ]
    },
    {
      "cell_type": "code",
      "metadata": {
        "id": "3BQw5TQLfwdN"
      },
      "source": [
        "Y_pred = random_forest.predict(X_test)\n",
        "Y_pred = pd.DataFrame(Y_pred)"
      ],
      "execution_count": 260,
      "outputs": []
    },
    {
      "cell_type": "markdown",
      "metadata": {
        "id": "Jf-t1qldobuL"
      },
      "source": [
        "# SAVE THE OUTPUT IN CSV FORMAT"
      ]
    },
    {
      "cell_type": "code",
      "metadata": {
        "id": "YMiVEUcICbxe"
      },
      "source": [
        "from google.colab import drive\n",
        "drive.mount('drive')"
      ],
      "execution_count": 78,
      "outputs": []
    },
    {
      "cell_type": "code",
      "metadata": {
        "id": "LuGWENpojze6"
      },
      "source": [
        "output = test_id.to_frame().merge(Y_pred,how='left',left_index=True,right_index=True).set_index('PassengerId').rename(columns={0:'Survived'})\n",
        "output\n",
        "output.to_csv('kaggle_sub_py_4.csv')\n",
        "!cp kaggle_sub_py_4.csv \"/content/drive/MyDrive/ColabNotebooks/\""
      ],
      "execution_count": 79,
      "outputs": []
    },
    {
      "cell_type": "markdown",
      "metadata": {
        "id": "Er0-1MSLyFz2"
      },
      "source": [
        "## PUBLISH "
      ]
    },
    {
      "cell_type": "code",
      "metadata": {
        "colab": {
          "base_uri": "https://localhost:8080/"
        },
        "id": "vJMo486XyKSM",
        "outputId": "31cc4ff8-d210-48de-b602-96c72932984d"
      },
      "source": [
        "%%shell\n",
        "jupyter nbconvert --to html /content/sample_data/kaggle_titanic_DataScienceWorkflow.ipynb"
      ],
      "execution_count": 261,
      "outputs": [
        {
          "output_type": "stream",
          "name": "stdout",
          "text": [
            "[NbConvertApp] Converting notebook /content/sample_data/kaggle_titanic_DataScienceWorkflow_1019.ipynb to html\n",
            "[NbConvertApp] Writing 837809 bytes to /content/sample_data/kaggle_titanic_DataScienceWorkflow_1019.html\n"
          ]
        },
        {
          "output_type": "execute_result",
          "data": {
            "text/plain": [
              ""
            ]
          },
          "metadata": {},
          "execution_count": 261
        }
      ]
    }
  ]
}